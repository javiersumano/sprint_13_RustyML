{
 "cells": [
  {
   "cell_type": "markdown",
   "metadata": {},
   "source": [
    "# *RustyInsights*"
   ]
  },
  {
   "cell_type": "markdown",
   "metadata": {},
   "source": [
    "El servicio de venta de autos usados Rusty Bargain está desarrollando una aplicación para atraer nuevos clientes. Gracias a esa app, puedes averiguar rápidamente el valor de mercado de tu coche. Tienes acceso al historial: especificaciones técnicas, versiones de equipamiento y precios. Tienes que crear un modelo que determine el valor de mercado.\n",
    "A Rusty Bargain le interesa:\n",
    "- la calidad de la predicción;\n",
    "- la velocidad de la predicción;\n",
    "- el tiempo requerido para el entrenamiento"
   ]
  },
  {
   "cell_type": "markdown",
   "metadata": {},
   "source": [
    "# Descripción de los datos\n",
    "El dataset está almacenado en el archivo `/datasets/car_data.csv`\n",
    "\n",
    "Características:\n",
    "\n",
    "* `DateCrawled`: Fecha en la que se descargó el perfil de la base de datos\n",
    "* `VehicleType`: Tipo de carrocería del vehículo\n",
    "* `RegistrationYear`: El año de matriculación del vehículo\n",
    "* `Gearbox`: Tipo de caja de cambios\n",
    "* `Power`: La potencia (CV)\n",
    "* `Model`: EL modelo del vehículo\n",
    "* `Mileage`: El kilometraje (medido en km de acuerdo con las especificidades regionales del conjunto de datos)\n",
    "* `RegistrationMonth`:El mes de matriculación del vehículo\n",
    "* `FuelType`: El tipo de combustible\n",
    "* `Brand`: La marca del vehículo\n",
    "* `NotRepaired`: Vehículo con o sin reparación\n",
    "* `DateCreated`: La fecha de creación del perfil\n",
    "* `NumberOfPictures`: El número de fotos del vehículo\n",
    "* `PostalCode`: El código postal del propietario del perfil (usuario)\n",
    "* `LastSeen`: La fecha de la última vez que el usuario estuvo activo\n",
    "\n",
    "Objetivo:\n",
    "\n",
    "* `Price`: El precio, que esta en euros. "
   ]
  },
  {
   "cell_type": "markdown",
   "metadata": {},
   "source": [
    "## Preparación de datos"
   ]
  },
  {
   "cell_type": "markdown",
   "metadata": {},
   "source": [
    "###  INICIALIZACIÓN"
   ]
  },
  {
   "cell_type": "code",
   "execution_count": 1,
   "metadata": {},
   "outputs": [],
   "source": [
    "# Cargar todas las librerías a usar en el proyecto. \n",
    "import pandas as pd\n",
    "import numpy as np\n",
    "import matplotlib.pyplot as plt\n",
    "import seaborn as sns\n",
    "\n",
    "# Importa la función de cálculo del EMC y el R2 desde la librería scikit-learn\n",
    "from sklearn.metrics import mean_squared_error, r2_score, make_scorer\n",
    "\n",
    "# Importar la función train_test_split desde la librería sklearn \n",
    "from sklearn.model_selection import train_test_split\n",
    "\n",
    "# Importar la función del Bosque aleatorio \n",
    "from sklearn.ensemble import RandomForestClassifier\n",
    "\n",
    "# Importar la función de la Regresión Linear\n",
    "from sklearn.linear_model import LinearRegression\n",
    "\n",
    "\n",
    "from sklearn.tree import DecisionTreeRegressor\n",
    "from sklearn.model_selection import RandomizedSearchCV\n",
    "\n",
    "#Importar la función de Escalado de características\n",
    "from sklearn.preprocessing import StandardScaler\n",
    "\n",
    "#Importar la función de OneHotEncoder\n",
    "from sklearn.preprocessing import OneHotEncoder\n",
    "from sklearn.preprocessing import OrdinalEncoder\n",
    "\n",
    "import lightgbm as lgb\n",
    "from catboost import CatBoostRegressor \n",
    "import xgboost as xgb\n",
    "\n",
    "# Medición del tiempo de ejecución\n",
    "import time"
   ]
  },
  {
   "cell_type": "markdown",
   "metadata": {},
   "source": [
    "### CARGAR LOS DATOS."
   ]
  },
  {
   "cell_type": "code",
   "execution_count": 2,
   "metadata": {
    "scrolled": true
   },
   "outputs": [
    {
     "name": "stdout",
     "output_type": "stream",
     "text": [
      "\n",
      " Datos cargados correctamente. Con la siguiente Dimensión: (354369, 16)\n"
     ]
    }
   ],
   "source": [
    "data  = pd.read_csv('/datasets/car_data.csv')\n",
    "print(f'\\n Datos cargados correctamente. Con la siguiente Dimensión: {data.shape}')"
   ]
  },
  {
   "cell_type": "markdown",
   "metadata": {},
   "source": [
    "### ANÁLISIS DE LOS DATOS"
   ]
  },
  {
   "cell_type": "code",
   "execution_count": 3,
   "metadata": {
    "scrolled": true
   },
   "outputs": [
    {
     "name": "stdout",
     "output_type": "stream",
     "text": [
      "\n",
      "Información general del DataFrame:\n",
      "<class 'pandas.core.frame.DataFrame'>\n",
      "RangeIndex: 354369 entries, 0 to 354368\n",
      "Data columns (total 16 columns):\n",
      " #   Column             Non-Null Count   Dtype \n",
      "---  ------             --------------   ----- \n",
      " 0   DateCrawled        354369 non-null  object\n",
      " 1   Price              354369 non-null  int64 \n",
      " 2   VehicleType        316879 non-null  object\n",
      " 3   RegistrationYear   354369 non-null  int64 \n",
      " 4   Gearbox            334536 non-null  object\n",
      " 5   Power              354369 non-null  int64 \n",
      " 6   Model              334664 non-null  object\n",
      " 7   Mileage            354369 non-null  int64 \n",
      " 8   RegistrationMonth  354369 non-null  int64 \n",
      " 9   FuelType           321474 non-null  object\n",
      " 10  Brand              354369 non-null  object\n",
      " 11  NotRepaired        283215 non-null  object\n",
      " 12  DateCreated        354369 non-null  object\n",
      " 13  NumberOfPictures   354369 non-null  int64 \n",
      " 14  PostalCode         354369 non-null  int64 \n",
      " 15  LastSeen           354369 non-null  object\n",
      "dtypes: int64(7), object(9)\n",
      "memory usage: 43.3+ MB\n",
      "\n",
      "\n",
      " Estadísitica descriptiva\n"
     ]
    },
    {
     "data": {
      "text/html": [
       "<div>\n",
       "<style scoped>\n",
       "    .dataframe tbody tr th:only-of-type {\n",
       "        vertical-align: middle;\n",
       "    }\n",
       "\n",
       "    .dataframe tbody tr th {\n",
       "        vertical-align: top;\n",
       "    }\n",
       "\n",
       "    .dataframe thead th {\n",
       "        text-align: right;\n",
       "    }\n",
       "</style>\n",
       "<table border=\"1\" class=\"dataframe\">\n",
       "  <thead>\n",
       "    <tr style=\"text-align: right;\">\n",
       "      <th></th>\n",
       "      <th>Price</th>\n",
       "      <th>RegistrationYear</th>\n",
       "      <th>Power</th>\n",
       "      <th>Mileage</th>\n",
       "      <th>RegistrationMonth</th>\n",
       "      <th>NumberOfPictures</th>\n",
       "      <th>PostalCode</th>\n",
       "    </tr>\n",
       "  </thead>\n",
       "  <tbody>\n",
       "    <tr>\n",
       "      <th>count</th>\n",
       "      <td>354369.000000</td>\n",
       "      <td>354369.000000</td>\n",
       "      <td>354369.000000</td>\n",
       "      <td>354369.000000</td>\n",
       "      <td>354369.000000</td>\n",
       "      <td>354369.0</td>\n",
       "      <td>354369.000000</td>\n",
       "    </tr>\n",
       "    <tr>\n",
       "      <th>mean</th>\n",
       "      <td>4416.656776</td>\n",
       "      <td>2004.234448</td>\n",
       "      <td>110.094337</td>\n",
       "      <td>128211.172535</td>\n",
       "      <td>5.714645</td>\n",
       "      <td>0.0</td>\n",
       "      <td>50508.689087</td>\n",
       "    </tr>\n",
       "    <tr>\n",
       "      <th>std</th>\n",
       "      <td>4514.158514</td>\n",
       "      <td>90.227958</td>\n",
       "      <td>189.850405</td>\n",
       "      <td>37905.341530</td>\n",
       "      <td>3.726421</td>\n",
       "      <td>0.0</td>\n",
       "      <td>25783.096248</td>\n",
       "    </tr>\n",
       "    <tr>\n",
       "      <th>min</th>\n",
       "      <td>0.000000</td>\n",
       "      <td>1000.000000</td>\n",
       "      <td>0.000000</td>\n",
       "      <td>5000.000000</td>\n",
       "      <td>0.000000</td>\n",
       "      <td>0.0</td>\n",
       "      <td>1067.000000</td>\n",
       "    </tr>\n",
       "    <tr>\n",
       "      <th>25%</th>\n",
       "      <td>1050.000000</td>\n",
       "      <td>1999.000000</td>\n",
       "      <td>69.000000</td>\n",
       "      <td>125000.000000</td>\n",
       "      <td>3.000000</td>\n",
       "      <td>0.0</td>\n",
       "      <td>30165.000000</td>\n",
       "    </tr>\n",
       "    <tr>\n",
       "      <th>50%</th>\n",
       "      <td>2700.000000</td>\n",
       "      <td>2003.000000</td>\n",
       "      <td>105.000000</td>\n",
       "      <td>150000.000000</td>\n",
       "      <td>6.000000</td>\n",
       "      <td>0.0</td>\n",
       "      <td>49413.000000</td>\n",
       "    </tr>\n",
       "    <tr>\n",
       "      <th>75%</th>\n",
       "      <td>6400.000000</td>\n",
       "      <td>2008.000000</td>\n",
       "      <td>143.000000</td>\n",
       "      <td>150000.000000</td>\n",
       "      <td>9.000000</td>\n",
       "      <td>0.0</td>\n",
       "      <td>71083.000000</td>\n",
       "    </tr>\n",
       "    <tr>\n",
       "      <th>max</th>\n",
       "      <td>20000.000000</td>\n",
       "      <td>9999.000000</td>\n",
       "      <td>20000.000000</td>\n",
       "      <td>150000.000000</td>\n",
       "      <td>12.000000</td>\n",
       "      <td>0.0</td>\n",
       "      <td>99998.000000</td>\n",
       "    </tr>\n",
       "  </tbody>\n",
       "</table>\n",
       "</div>"
      ],
      "text/plain": [
       "               Price  RegistrationYear          Power        Mileage  \\\n",
       "count  354369.000000     354369.000000  354369.000000  354369.000000   \n",
       "mean     4416.656776       2004.234448     110.094337  128211.172535   \n",
       "std      4514.158514         90.227958     189.850405   37905.341530   \n",
       "min         0.000000       1000.000000       0.000000    5000.000000   \n",
       "25%      1050.000000       1999.000000      69.000000  125000.000000   \n",
       "50%      2700.000000       2003.000000     105.000000  150000.000000   \n",
       "75%      6400.000000       2008.000000     143.000000  150000.000000   \n",
       "max     20000.000000       9999.000000   20000.000000  150000.000000   \n",
       "\n",
       "       RegistrationMonth  NumberOfPictures     PostalCode  \n",
       "count      354369.000000          354369.0  354369.000000  \n",
       "mean            5.714645               0.0   50508.689087  \n",
       "std             3.726421               0.0   25783.096248  \n",
       "min             0.000000               0.0    1067.000000  \n",
       "25%             3.000000               0.0   30165.000000  \n",
       "50%             6.000000               0.0   49413.000000  \n",
       "75%             9.000000               0.0   71083.000000  \n",
       "max            12.000000               0.0   99998.000000  "
      ]
     },
     "execution_count": 3,
     "metadata": {},
     "output_type": "execute_result"
    }
   ],
   "source": [
    "print(\"\\nInformación general del DataFrame:\")\n",
    "data.info()\n",
    "print()\n",
    "print(\"\\n Estadísitica descriptiva\")\n",
    "data.describe()"
   ]
  },
  {
   "cell_type": "code",
   "execution_count": 4,
   "metadata": {
    "scrolled": true
   },
   "outputs": [
    {
     "data": {
      "text/html": [
       "<div>\n",
       "<style scoped>\n",
       "    .dataframe tbody tr th:only-of-type {\n",
       "        vertical-align: middle;\n",
       "    }\n",
       "\n",
       "    .dataframe tbody tr th {\n",
       "        vertical-align: top;\n",
       "    }\n",
       "\n",
       "    .dataframe thead th {\n",
       "        text-align: right;\n",
       "    }\n",
       "</style>\n",
       "<table border=\"1\" class=\"dataframe\">\n",
       "  <thead>\n",
       "    <tr style=\"text-align: right;\">\n",
       "      <th></th>\n",
       "      <th>DateCrawled</th>\n",
       "      <th>Price</th>\n",
       "      <th>VehicleType</th>\n",
       "      <th>RegistrationYear</th>\n",
       "      <th>Gearbox</th>\n",
       "      <th>Power</th>\n",
       "      <th>Model</th>\n",
       "      <th>Mileage</th>\n",
       "      <th>RegistrationMonth</th>\n",
       "      <th>FuelType</th>\n",
       "      <th>Brand</th>\n",
       "      <th>NotRepaired</th>\n",
       "      <th>DateCreated</th>\n",
       "      <th>NumberOfPictures</th>\n",
       "      <th>PostalCode</th>\n",
       "      <th>LastSeen</th>\n",
       "    </tr>\n",
       "  </thead>\n",
       "  <tbody>\n",
       "    <tr>\n",
       "      <th>0</th>\n",
       "      <td>24/03/2016 11:52</td>\n",
       "      <td>480</td>\n",
       "      <td>NaN</td>\n",
       "      <td>1993</td>\n",
       "      <td>manual</td>\n",
       "      <td>0</td>\n",
       "      <td>golf</td>\n",
       "      <td>150000</td>\n",
       "      <td>0</td>\n",
       "      <td>petrol</td>\n",
       "      <td>volkswagen</td>\n",
       "      <td>NaN</td>\n",
       "      <td>24/03/2016 00:00</td>\n",
       "      <td>0</td>\n",
       "      <td>70435</td>\n",
       "      <td>07/04/2016 03:16</td>\n",
       "    </tr>\n",
       "    <tr>\n",
       "      <th>1</th>\n",
       "      <td>24/03/2016 10:58</td>\n",
       "      <td>18300</td>\n",
       "      <td>coupe</td>\n",
       "      <td>2011</td>\n",
       "      <td>manual</td>\n",
       "      <td>190</td>\n",
       "      <td>NaN</td>\n",
       "      <td>125000</td>\n",
       "      <td>5</td>\n",
       "      <td>gasoline</td>\n",
       "      <td>audi</td>\n",
       "      <td>yes</td>\n",
       "      <td>24/03/2016 00:00</td>\n",
       "      <td>0</td>\n",
       "      <td>66954</td>\n",
       "      <td>07/04/2016 01:46</td>\n",
       "    </tr>\n",
       "    <tr>\n",
       "      <th>2</th>\n",
       "      <td>14/03/2016 12:52</td>\n",
       "      <td>9800</td>\n",
       "      <td>suv</td>\n",
       "      <td>2004</td>\n",
       "      <td>auto</td>\n",
       "      <td>163</td>\n",
       "      <td>grand</td>\n",
       "      <td>125000</td>\n",
       "      <td>8</td>\n",
       "      <td>gasoline</td>\n",
       "      <td>jeep</td>\n",
       "      <td>NaN</td>\n",
       "      <td>14/03/2016 00:00</td>\n",
       "      <td>0</td>\n",
       "      <td>90480</td>\n",
       "      <td>05/04/2016 12:47</td>\n",
       "    </tr>\n",
       "    <tr>\n",
       "      <th>3</th>\n",
       "      <td>17/03/2016 16:54</td>\n",
       "      <td>1500</td>\n",
       "      <td>small</td>\n",
       "      <td>2001</td>\n",
       "      <td>manual</td>\n",
       "      <td>75</td>\n",
       "      <td>golf</td>\n",
       "      <td>150000</td>\n",
       "      <td>6</td>\n",
       "      <td>petrol</td>\n",
       "      <td>volkswagen</td>\n",
       "      <td>no</td>\n",
       "      <td>17/03/2016 00:00</td>\n",
       "      <td>0</td>\n",
       "      <td>91074</td>\n",
       "      <td>17/03/2016 17:40</td>\n",
       "    </tr>\n",
       "    <tr>\n",
       "      <th>4</th>\n",
       "      <td>31/03/2016 17:25</td>\n",
       "      <td>3600</td>\n",
       "      <td>small</td>\n",
       "      <td>2008</td>\n",
       "      <td>manual</td>\n",
       "      <td>69</td>\n",
       "      <td>fabia</td>\n",
       "      <td>90000</td>\n",
       "      <td>7</td>\n",
       "      <td>gasoline</td>\n",
       "      <td>skoda</td>\n",
       "      <td>no</td>\n",
       "      <td>31/03/2016 00:00</td>\n",
       "      <td>0</td>\n",
       "      <td>60437</td>\n",
       "      <td>06/04/2016 10:17</td>\n",
       "    </tr>\n",
       "    <tr>\n",
       "      <th>5</th>\n",
       "      <td>04/04/2016 17:36</td>\n",
       "      <td>650</td>\n",
       "      <td>sedan</td>\n",
       "      <td>1995</td>\n",
       "      <td>manual</td>\n",
       "      <td>102</td>\n",
       "      <td>3er</td>\n",
       "      <td>150000</td>\n",
       "      <td>10</td>\n",
       "      <td>petrol</td>\n",
       "      <td>bmw</td>\n",
       "      <td>yes</td>\n",
       "      <td>04/04/2016 00:00</td>\n",
       "      <td>0</td>\n",
       "      <td>33775</td>\n",
       "      <td>06/04/2016 19:17</td>\n",
       "    </tr>\n",
       "    <tr>\n",
       "      <th>6</th>\n",
       "      <td>01/04/2016 20:48</td>\n",
       "      <td>2200</td>\n",
       "      <td>convertible</td>\n",
       "      <td>2004</td>\n",
       "      <td>manual</td>\n",
       "      <td>109</td>\n",
       "      <td>2_reihe</td>\n",
       "      <td>150000</td>\n",
       "      <td>8</td>\n",
       "      <td>petrol</td>\n",
       "      <td>peugeot</td>\n",
       "      <td>no</td>\n",
       "      <td>01/04/2016 00:00</td>\n",
       "      <td>0</td>\n",
       "      <td>67112</td>\n",
       "      <td>05/04/2016 18:18</td>\n",
       "    </tr>\n",
       "    <tr>\n",
       "      <th>7</th>\n",
       "      <td>21/03/2016 18:54</td>\n",
       "      <td>0</td>\n",
       "      <td>sedan</td>\n",
       "      <td>1980</td>\n",
       "      <td>manual</td>\n",
       "      <td>50</td>\n",
       "      <td>other</td>\n",
       "      <td>40000</td>\n",
       "      <td>7</td>\n",
       "      <td>petrol</td>\n",
       "      <td>volkswagen</td>\n",
       "      <td>no</td>\n",
       "      <td>21/03/2016 00:00</td>\n",
       "      <td>0</td>\n",
       "      <td>19348</td>\n",
       "      <td>25/03/2016 16:47</td>\n",
       "    </tr>\n",
       "    <tr>\n",
       "      <th>8</th>\n",
       "      <td>04/04/2016 23:42</td>\n",
       "      <td>14500</td>\n",
       "      <td>bus</td>\n",
       "      <td>2014</td>\n",
       "      <td>manual</td>\n",
       "      <td>125</td>\n",
       "      <td>c_max</td>\n",
       "      <td>30000</td>\n",
       "      <td>8</td>\n",
       "      <td>petrol</td>\n",
       "      <td>ford</td>\n",
       "      <td>NaN</td>\n",
       "      <td>04/04/2016 00:00</td>\n",
       "      <td>0</td>\n",
       "      <td>94505</td>\n",
       "      <td>04/04/2016 23:42</td>\n",
       "    </tr>\n",
       "    <tr>\n",
       "      <th>9</th>\n",
       "      <td>17/03/2016 10:53</td>\n",
       "      <td>999</td>\n",
       "      <td>small</td>\n",
       "      <td>1998</td>\n",
       "      <td>manual</td>\n",
       "      <td>101</td>\n",
       "      <td>golf</td>\n",
       "      <td>150000</td>\n",
       "      <td>0</td>\n",
       "      <td>NaN</td>\n",
       "      <td>volkswagen</td>\n",
       "      <td>NaN</td>\n",
       "      <td>17/03/2016 00:00</td>\n",
       "      <td>0</td>\n",
       "      <td>27472</td>\n",
       "      <td>31/03/2016 17:17</td>\n",
       "    </tr>\n",
       "  </tbody>\n",
       "</table>\n",
       "</div>"
      ],
      "text/plain": [
       "        DateCrawled  Price  VehicleType  RegistrationYear Gearbox  Power  \\\n",
       "0  24/03/2016 11:52    480          NaN              1993  manual      0   \n",
       "1  24/03/2016 10:58  18300        coupe              2011  manual    190   \n",
       "2  14/03/2016 12:52   9800          suv              2004    auto    163   \n",
       "3  17/03/2016 16:54   1500        small              2001  manual     75   \n",
       "4  31/03/2016 17:25   3600        small              2008  manual     69   \n",
       "5  04/04/2016 17:36    650        sedan              1995  manual    102   \n",
       "6  01/04/2016 20:48   2200  convertible              2004  manual    109   \n",
       "7  21/03/2016 18:54      0        sedan              1980  manual     50   \n",
       "8  04/04/2016 23:42  14500          bus              2014  manual    125   \n",
       "9  17/03/2016 10:53    999        small              1998  manual    101   \n",
       "\n",
       "     Model  Mileage  RegistrationMonth  FuelType       Brand NotRepaired  \\\n",
       "0     golf   150000                  0    petrol  volkswagen         NaN   \n",
       "1      NaN   125000                  5  gasoline        audi         yes   \n",
       "2    grand   125000                  8  gasoline        jeep         NaN   \n",
       "3     golf   150000                  6    petrol  volkswagen          no   \n",
       "4    fabia    90000                  7  gasoline       skoda          no   \n",
       "5      3er   150000                 10    petrol         bmw         yes   \n",
       "6  2_reihe   150000                  8    petrol     peugeot          no   \n",
       "7    other    40000                  7    petrol  volkswagen          no   \n",
       "8    c_max    30000                  8    petrol        ford         NaN   \n",
       "9     golf   150000                  0       NaN  volkswagen         NaN   \n",
       "\n",
       "        DateCreated  NumberOfPictures  PostalCode          LastSeen  \n",
       "0  24/03/2016 00:00                 0       70435  07/04/2016 03:16  \n",
       "1  24/03/2016 00:00                 0       66954  07/04/2016 01:46  \n",
       "2  14/03/2016 00:00                 0       90480  05/04/2016 12:47  \n",
       "3  17/03/2016 00:00                 0       91074  17/03/2016 17:40  \n",
       "4  31/03/2016 00:00                 0       60437  06/04/2016 10:17  \n",
       "5  04/04/2016 00:00                 0       33775  06/04/2016 19:17  \n",
       "6  01/04/2016 00:00                 0       67112  05/04/2016 18:18  \n",
       "7  21/03/2016 00:00                 0       19348  25/03/2016 16:47  \n",
       "8  04/04/2016 00:00                 0       94505  04/04/2016 23:42  \n",
       "9  17/03/2016 00:00                 0       27472  31/03/2016 17:17  "
      ]
     },
     "execution_count": 4,
     "metadata": {},
     "output_type": "execute_result"
    }
   ],
   "source": [
    "# Obtención de las 10 primeras filas de las bases de datos \n",
    "data.head(10)"
   ]
  },
  {
   "cell_type": "code",
   "execution_count": 5,
   "metadata": {},
   "outputs": [],
   "source": [
    "# Eliminar columnas irrelevantes\n",
    "data_clean = data.drop(['NumberOfPictures', 'PostalCode', 'DateCrawled', 'LastSeen', 'DateCreated'], axis = 1)"
   ]
  },
  {
   "cell_type": "code",
   "execution_count": 6,
   "metadata": {},
   "outputs": [],
   "source": [
    "#Filtrar el año entre 1960 a 2024\n",
    "data_clean = data_clean[(data_clean['RegistrationYear'] > 1960) & (data_clean['RegistrationYear'] <= 2023)] "
   ]
  },
  {
   "cell_type": "code",
   "execution_count": 7,
   "metadata": {},
   "outputs": [
    {
     "data": {
      "text/plain": [
       "count    353654.000000\n",
       "mean       2003.173031\n",
       "std           7.159601\n",
       "min        1961.000000\n",
       "25%        1999.000000\n",
       "50%        2003.000000\n",
       "75%        2008.000000\n",
       "max        2019.000000\n",
       "Name: RegistrationYear, dtype: float64"
      ]
     },
     "execution_count": 7,
     "metadata": {},
     "output_type": "execute_result"
    }
   ],
   "source": [
    "#Comprobación del cambio en RegistrionYear\n",
    "data_clean['RegistrationYear'].describe()"
   ]
  },
  {
   "cell_type": "code",
   "execution_count": 8,
   "metadata": {},
   "outputs": [],
   "source": [
    "#Selección de poder mayores a 20\n",
    "data_clean = data_clean[(data_clean['Power'] > 20) & (data_clean['Power'] <= 20000)] "
   ]
  },
  {
   "cell_type": "code",
   "execution_count": 9,
   "metadata": {},
   "outputs": [
    {
     "data": {
      "text/plain": [
       "count    313463.000000\n",
       "mean        124.308531\n",
       "std         197.007333\n",
       "min          21.000000\n",
       "25%          75.000000\n",
       "50%         110.000000\n",
       "75%         150.000000\n",
       "max       20000.000000\n",
       "Name: Power, dtype: float64"
      ]
     },
     "execution_count": 9,
     "metadata": {},
     "output_type": "execute_result"
    }
   ],
   "source": [
    "#Comprobación del cambio en Power \n",
    "data_clean['Power'].describe()"
   ]
  },
  {
   "cell_type": "markdown",
   "metadata": {},
   "source": [
    "Como se puede visualizar en esta tabla el minimo de 'Power' es 20 y esto nos ayudara a tener mejor analisis. "
   ]
  },
  {
   "cell_type": "code",
   "execution_count": 10,
   "metadata": {},
   "outputs": [],
   "source": [
    "data_clean.reset_index(inplace = True)"
   ]
  },
  {
   "cell_type": "code",
   "execution_count": 11,
   "metadata": {},
   "outputs": [
    {
     "name": "stdout",
     "output_type": "stream",
     "text": [
      "<class 'pandas.core.frame.DataFrame'>\n",
      "RangeIndex: 313463 entries, 0 to 313462\n",
      "Data columns (total 12 columns):\n",
      " #   Column             Non-Null Count   Dtype \n",
      "---  ------             --------------   ----- \n",
      " 0   index              313463 non-null  int64 \n",
      " 1   Price              313463 non-null  int64 \n",
      " 2   VehicleType        290719 non-null  object\n",
      " 3   RegistrationYear   313463 non-null  int64 \n",
      " 4   Gearbox            307013 non-null  object\n",
      " 5   Power              313463 non-null  int64 \n",
      " 6   Model              300362 non-null  object\n",
      " 7   Mileage            313463 non-null  int64 \n",
      " 8   RegistrationMonth  313463 non-null  int64 \n",
      " 9   FuelType           292339 non-null  object\n",
      " 10  Brand              313463 non-null  object\n",
      " 11  NotRepaired        263933 non-null  object\n",
      "dtypes: int64(6), object(6)\n",
      "memory usage: 28.7+ MB\n",
      "\n",
      "\n"
     ]
    },
    {
     "data": {
      "text/html": [
       "<div>\n",
       "<style scoped>\n",
       "    .dataframe tbody tr th:only-of-type {\n",
       "        vertical-align: middle;\n",
       "    }\n",
       "\n",
       "    .dataframe tbody tr th {\n",
       "        vertical-align: top;\n",
       "    }\n",
       "\n",
       "    .dataframe thead th {\n",
       "        text-align: right;\n",
       "    }\n",
       "</style>\n",
       "<table border=\"1\" class=\"dataframe\">\n",
       "  <thead>\n",
       "    <tr style=\"text-align: right;\">\n",
       "      <th></th>\n",
       "      <th>index</th>\n",
       "      <th>Price</th>\n",
       "      <th>RegistrationYear</th>\n",
       "      <th>Power</th>\n",
       "      <th>Mileage</th>\n",
       "      <th>RegistrationMonth</th>\n",
       "    </tr>\n",
       "  </thead>\n",
       "  <tbody>\n",
       "    <tr>\n",
       "      <th>count</th>\n",
       "      <td>313463.000000</td>\n",
       "      <td>313463.000000</td>\n",
       "      <td>313463.000000</td>\n",
       "      <td>313463.000000</td>\n",
       "      <td>313463.000000</td>\n",
       "      <td>313463.000000</td>\n",
       "    </tr>\n",
       "    <tr>\n",
       "      <th>mean</th>\n",
       "      <td>177222.843962</td>\n",
       "      <td>4702.456443</td>\n",
       "      <td>2003.290487</td>\n",
       "      <td>124.308531</td>\n",
       "      <td>128636.298383</td>\n",
       "      <td>5.936337</td>\n",
       "    </tr>\n",
       "    <tr>\n",
       "      <th>std</th>\n",
       "      <td>102211.784633</td>\n",
       "      <td>4589.194853</td>\n",
       "      <td>6.840860</td>\n",
       "      <td>197.007333</td>\n",
       "      <td>36653.842688</td>\n",
       "      <td>3.615655</td>\n",
       "    </tr>\n",
       "    <tr>\n",
       "      <th>min</th>\n",
       "      <td>1.000000</td>\n",
       "      <td>0.000000</td>\n",
       "      <td>1961.000000</td>\n",
       "      <td>21.000000</td>\n",
       "      <td>5000.000000</td>\n",
       "      <td>0.000000</td>\n",
       "    </tr>\n",
       "    <tr>\n",
       "      <th>25%</th>\n",
       "      <td>88806.500000</td>\n",
       "      <td>1250.000000</td>\n",
       "      <td>1999.000000</td>\n",
       "      <td>75.000000</td>\n",
       "      <td>125000.000000</td>\n",
       "      <td>3.000000</td>\n",
       "    </tr>\n",
       "    <tr>\n",
       "      <th>50%</th>\n",
       "      <td>177221.000000</td>\n",
       "      <td>2999.000000</td>\n",
       "      <td>2003.000000</td>\n",
       "      <td>110.000000</td>\n",
       "      <td>150000.000000</td>\n",
       "      <td>6.000000</td>\n",
       "    </tr>\n",
       "    <tr>\n",
       "      <th>75%</th>\n",
       "      <td>265704.500000</td>\n",
       "      <td>6870.000000</td>\n",
       "      <td>2008.000000</td>\n",
       "      <td>150.000000</td>\n",
       "      <td>150000.000000</td>\n",
       "      <td>9.000000</td>\n",
       "    </tr>\n",
       "    <tr>\n",
       "      <th>max</th>\n",
       "      <td>354368.000000</td>\n",
       "      <td>20000.000000</td>\n",
       "      <td>2019.000000</td>\n",
       "      <td>20000.000000</td>\n",
       "      <td>150000.000000</td>\n",
       "      <td>12.000000</td>\n",
       "    </tr>\n",
       "  </tbody>\n",
       "</table>\n",
       "</div>"
      ],
      "text/plain": [
       "               index          Price  RegistrationYear          Power  \\\n",
       "count  313463.000000  313463.000000     313463.000000  313463.000000   \n",
       "mean   177222.843962    4702.456443       2003.290487     124.308531   \n",
       "std    102211.784633    4589.194853          6.840860     197.007333   \n",
       "min         1.000000       0.000000       1961.000000      21.000000   \n",
       "25%     88806.500000    1250.000000       1999.000000      75.000000   \n",
       "50%    177221.000000    2999.000000       2003.000000     110.000000   \n",
       "75%    265704.500000    6870.000000       2008.000000     150.000000   \n",
       "max    354368.000000   20000.000000       2019.000000   20000.000000   \n",
       "\n",
       "             Mileage  RegistrationMonth  \n",
       "count  313463.000000      313463.000000  \n",
       "mean   128636.298383           5.936337  \n",
       "std     36653.842688           3.615655  \n",
       "min      5000.000000           0.000000  \n",
       "25%    125000.000000           3.000000  \n",
       "50%    150000.000000           6.000000  \n",
       "75%    150000.000000           9.000000  \n",
       "max    150000.000000          12.000000  "
      ]
     },
     "execution_count": 11,
     "metadata": {},
     "output_type": "execute_result"
    }
   ],
   "source": [
    "#Comprobación del cambio \n",
    "data_clean.info()\n",
    "print()\n",
    "print()\n",
    "data_clean.describe()"
   ]
  },
  {
   "cell_type": "code",
   "execution_count": 12,
   "metadata": {},
   "outputs": [
    {
     "name": "stdout",
     "output_type": "stream",
     "text": [
      "\n",
      " Valores nulos por columna:\n",
      "index                    0\n",
      "Price                    0\n",
      "VehicleType          22744\n",
      "RegistrationYear         0\n",
      "Gearbox               6450\n",
      "Power                    0\n",
      "Model                13101\n",
      "Mileage                  0\n",
      "RegistrationMonth        0\n",
      "FuelType             21124\n",
      "Brand                    0\n",
      "NotRepaired          49530\n",
      "dtype: int64\n"
     ]
    }
   ],
   "source": [
    "#Coimprobación de valores ausentes \n",
    "print('\\n Valores nulos por columna:')\n",
    "print(data_clean.isna().sum()) "
   ]
  },
  {
   "cell_type": "code",
   "execution_count": 13,
   "metadata": {},
   "outputs": [],
   "source": [
    "#Cambiar los valores nulos a desconocidos \n",
    "data_clean.fillna('Desconocido', inplace = True)"
   ]
  },
  {
   "cell_type": "code",
   "execution_count": 14,
   "metadata": {},
   "outputs": [
    {
     "name": "stdout",
     "output_type": "stream",
     "text": [
      "\n",
      " Valores nulos por columna:\n",
      "index                0\n",
      "Price                0\n",
      "VehicleType          0\n",
      "RegistrationYear     0\n",
      "Gearbox              0\n",
      "Power                0\n",
      "Model                0\n",
      "Mileage              0\n",
      "RegistrationMonth    0\n",
      "FuelType             0\n",
      "Brand                0\n",
      "NotRepaired          0\n",
      "dtype: int64\n"
     ]
    }
   ],
   "source": [
    "#Coimprobación del cambio \n",
    "print('\\n Valores nulos por columna:')\n",
    "print(data_clean.isna().sum()) "
   ]
  },
  {
   "cell_type": "code",
   "execution_count": 15,
   "metadata": {},
   "outputs": [
    {
     "name": "stdout",
     "output_type": "stream",
     "text": [
      "\n",
      "Se encontró que hay 0 datos duplicados en el DataFrame\n"
     ]
    }
   ],
   "source": [
    "#Verificación de que no haya duplicado. \n",
    "print(f'\\nSe encontró que hay {data_clean.duplicated().sum()} datos duplicados en el DataFrame')"
   ]
  },
  {
   "cell_type": "markdown",
   "metadata": {},
   "source": [
    "### GRÁFICAS "
   ]
  },
  {
   "cell_type": "code",
   "execution_count": 16,
   "metadata": {},
   "outputs": [
    {
     "data": {
      "image/png": "[encoded data removed]",
      "text/plain": [
       "<Figure size 640x480 with 1 Axes>"
      ]
     },
     "metadata": {},
     "output_type": "display_data"
    }
   ],
   "source": [
    "#Analisis de la distribucción de los  precios \n",
    "\n",
    "# Filtrar los valores donde el precio no sea 0\n",
    "data_clean_filtered = data_clean[data_clean['Price'] != 0]\n",
    "\n",
    "# Graficar la distribución de precios\n",
    "sns.histplot(data_clean_filtered['Price'], bins=50, kde=True)\n",
    "plt.title(\"Distribución de los Precios\")\n",
    "plt.xlabel(\"Price (€)\")\n",
    "plt.ylabel(\"Frecuencia\")\n",
    "plt.show()"
   ]
  },
  {
   "cell_type": "markdown",
   "metadata": {},
   "source": [
    "Con la gráfica que se obtuvo de la distribucción de los precios. En este se puede apreciar que la gráfica tiene una distribucción asimétrica sesgada hacia la derecha y esto puede significar que los precios de los vehiculos que tiene la empresa Rusty son bajos y hay muy pocos con precio alto. "
   ]
  },
  {
   "cell_type": "code",
   "execution_count": 17,
   "metadata": {},
   "outputs": [
    {
     "data": {
      "image/png": "[encoded data removed]",
      "text/plain": [
       "<Figure size 640x480 with 2 Axes>"
      ]
     },
     "metadata": {},
     "output_type": "display_data"
    }
   ],
   "source": [
    "#Matriz Correlación \n",
    "corr_matrix = data_clean.corr() \n",
    "\n",
    "#Creacción de un mapa de calor para visualizar la matriz de correlación\n",
    "sns.heatmap(corr_matrix, annot=True, cmap=\"coolwarm\", center=0)\n",
    "plt.title('Matriz de Correlación')\n",
    "plt.show()\n",
    "\n",
    "#Referencia: https://www.analyticslane.com/2023/07/27/graficos-de-correlacion-en-seaborn-mapas-de-calor-y-graficos-de-pares/"
   ]
  },
  {
   "cell_type": "markdown",
   "metadata": {},
   "source": [
    "Se puede observar en la siguiente gráfica de que `'Mileage'`, `'RegistrationYear'` y `'Power'` son las tres variables que influyen pero de una manera mederada en el precio.\n",
    "En el caso de `'Mileage'` este tiene una correlación negativa moderada con un valor de -0.33. Esto puede sugerir entre más kilometraje tenga el vehiculo, el precio de este disminuira. \n",
    "Por el otro lado `'Power'` este tiene una correlación positiva débil con un valor de 0.16. Esto puede sugerir que los vehiculos con mayor potencia tienden a ser más costosos pero esto no es una relación fuerte. \n",
    "Por el otro lado `'RegistrationYear'` este tiene una corelación mayor positiva con un valor de 0.43. "
   ]
  },
  {
   "cell_type": "markdown",
   "metadata": {},
   "source": [
    "## Entrenamiento del modelo "
   ]
  },
  {
   "cell_type": "markdown",
   "metadata": {},
   "source": [
    "### CODIFICACIÓN One-Hot"
   ]
  },
  {
   "cell_type": "code",
   "execution_count": 18,
   "metadata": {},
   "outputs": [
    {
     "data": {
      "text/plain": [
       "['VehicleType', 'Gearbox', 'Model', 'FuelType', 'Brand', 'NotRepaired']"
      ]
     },
     "execution_count": 18,
     "metadata": {},
     "output_type": "execute_result"
    }
   ],
   "source": [
    "#Selección de los datos categoricos \n",
    "characteristics_c= list(data_clean.dtypes[data_clean.dtypes == 'object'].index)\n",
    "characteristics_c"
   ]
  },
  {
   "cell_type": "code",
   "execution_count": 19,
   "metadata": {},
   "outputs": [
    {
     "name": "stdout",
     "output_type": "stream",
     "text": [
      "VehicleType  Gearbox      Model   FuelType     Brand       NotRepaired\n",
      "sedan        manual       golf    petrol       volkswagen  no             7319\n",
      "small        manual       corsa   petrol       opel        no             5820\n",
      "                          polo    petrol       volkswagen  no             5636\n",
      "sedan        manual       3er     petrol       bmw         no             3565\n",
      "small        manual       fiesta  petrol       ford        no             2654\n",
      "                                                                          ... \n",
      "             Desconocido  a3      petrol       audi        yes               1\n",
      "bus          manual       other   lpg          hyundai     Desconocido       1\n",
      "small        Desconocido  a3      gasoline     audi        Desconocido       1\n",
      "                          a1      petrol       audi        no                1\n",
      "Desconocido  Desconocido  100     Desconocido  audi        Desconocido       1\n",
      "Length: 15502, dtype: int64\n",
      "\n",
      "\n",
      "VehicleType  Gearbox      Model   FuelType     Brand       NotRepaired\n",
      "sedan        manual       golf    petrol       volkswagen  no             7319\n",
      "small        manual       corsa   petrol       opel        no             5820\n",
      "                          polo    petrol       volkswagen  no             5636\n",
      "sedan        manual       3er     petrol       bmw         no             3565\n",
      "small        manual       fiesta  petrol       ford        no             2654\n",
      "                                                                          ... \n",
      "             Desconocido  a3      petrol       audi        yes               1\n",
      "bus          manual       other   lpg          hyundai     Desconocido       1\n",
      "small        Desconocido  a3      gasoline     audi        Desconocido       1\n",
      "                          a1      petrol       audi        no                1\n",
      "Desconocido  Desconocido  100     Desconocido  audi        Desconocido       1\n",
      "Length: 15502, dtype: int64\n",
      "\n",
      "\n",
      "VehicleType  Gearbox      Model   FuelType     Brand       NotRepaired\n",
      "sedan        manual       golf    petrol       volkswagen  no             7319\n",
      "small        manual       corsa   petrol       opel        no             5820\n",
      "                          polo    petrol       volkswagen  no             5636\n",
      "sedan        manual       3er     petrol       bmw         no             3565\n",
      "small        manual       fiesta  petrol       ford        no             2654\n",
      "                                                                          ... \n",
      "             Desconocido  a3      petrol       audi        yes               1\n",
      "bus          manual       other   lpg          hyundai     Desconocido       1\n",
      "small        Desconocido  a3      gasoline     audi        Desconocido       1\n",
      "                          a1      petrol       audi        no                1\n",
      "Desconocido  Desconocido  100     Desconocido  audi        Desconocido       1\n",
      "Length: 15502, dtype: int64\n",
      "\n",
      "\n",
      "VehicleType  Gearbox      Model   FuelType     Brand       NotRepaired\n",
      "sedan        manual       golf    petrol       volkswagen  no             7319\n",
      "small        manual       corsa   petrol       opel        no             5820\n",
      "                          polo    petrol       volkswagen  no             5636\n",
      "sedan        manual       3er     petrol       bmw         no             3565\n",
      "small        manual       fiesta  petrol       ford        no             2654\n",
      "                                                                          ... \n",
      "             Desconocido  a3      petrol       audi        yes               1\n",
      "bus          manual       other   lpg          hyundai     Desconocido       1\n",
      "small        Desconocido  a3      gasoline     audi        Desconocido       1\n",
      "                          a1      petrol       audi        no                1\n",
      "Desconocido  Desconocido  100     Desconocido  audi        Desconocido       1\n",
      "Length: 15502, dtype: int64\n",
      "\n",
      "\n",
      "VehicleType  Gearbox      Model   FuelType     Brand       NotRepaired\n",
      "sedan        manual       golf    petrol       volkswagen  no             7319\n",
      "small        manual       corsa   petrol       opel        no             5820\n",
      "                          polo    petrol       volkswagen  no             5636\n",
      "sedan        manual       3er     petrol       bmw         no             3565\n",
      "small        manual       fiesta  petrol       ford        no             2654\n",
      "                                                                          ... \n",
      "             Desconocido  a3      petrol       audi        yes               1\n",
      "bus          manual       other   lpg          hyundai     Desconocido       1\n",
      "small        Desconocido  a3      gasoline     audi        Desconocido       1\n",
      "                          a1      petrol       audi        no                1\n",
      "Desconocido  Desconocido  100     Desconocido  audi        Desconocido       1\n",
      "Length: 15502, dtype: int64\n",
      "\n",
      "\n",
      "VehicleType  Gearbox      Model   FuelType     Brand       NotRepaired\n",
      "sedan        manual       golf    petrol       volkswagen  no             7319\n",
      "small        manual       corsa   petrol       opel        no             5820\n",
      "                          polo    petrol       volkswagen  no             5636\n",
      "sedan        manual       3er     petrol       bmw         no             3565\n",
      "small        manual       fiesta  petrol       ford        no             2654\n",
      "                                                                          ... \n",
      "             Desconocido  a3      petrol       audi        yes               1\n",
      "bus          manual       other   lpg          hyundai     Desconocido       1\n",
      "small        Desconocido  a3      gasoline     audi        Desconocido       1\n",
      "                          a1      petrol       audi        no                1\n",
      "Desconocido  Desconocido  100     Desconocido  audi        Desconocido       1\n",
      "Length: 15502, dtype: int64\n",
      "\n",
      "\n"
     ]
    }
   ],
   "source": [
    "for characteristics in characteristics_c: \n",
    "    print(data_clean[characteristics_c].value_counts())\n",
    "    print()\n",
    "    print()"
   ]
  },
  {
   "cell_type": "code",
   "execution_count": 20,
   "metadata": {},
   "outputs": [],
   "source": [
    "data_clean_ohe = data_clean.drop(['Model', 'Brand'], axis = 1 )"
   ]
  },
  {
   "cell_type": "code",
   "execution_count": 21,
   "metadata": {},
   "outputs": [],
   "source": [
    "data_clean_ohe = pd.get_dummies(data_clean_ohe, drop_first = True)"
   ]
  },
  {
   "cell_type": "code",
   "execution_count": 22,
   "metadata": {},
   "outputs": [
    {
     "data": {
      "text/html": [
       "<div>\n",
       "<style scoped>\n",
       "    .dataframe tbody tr th:only-of-type {\n",
       "        vertical-align: middle;\n",
       "    }\n",
       "\n",
       "    .dataframe tbody tr th {\n",
       "        vertical-align: top;\n",
       "    }\n",
       "\n",
       "    .dataframe thead th {\n",
       "        text-align: right;\n",
       "    }\n",
       "</style>\n",
       "<table border=\"1\" class=\"dataframe\">\n",
       "  <thead>\n",
       "    <tr style=\"text-align: right;\">\n",
       "      <th></th>\n",
       "      <th>index</th>\n",
       "      <th>Price</th>\n",
       "      <th>RegistrationYear</th>\n",
       "      <th>Power</th>\n",
       "      <th>Mileage</th>\n",
       "      <th>RegistrationMonth</th>\n",
       "      <th>VehicleType_bus</th>\n",
       "      <th>VehicleType_convertible</th>\n",
       "      <th>VehicleType_coupe</th>\n",
       "      <th>VehicleType_other</th>\n",
       "      <th>...</th>\n",
       "      <th>Gearbox_manual</th>\n",
       "      <th>FuelType_cng</th>\n",
       "      <th>FuelType_electric</th>\n",
       "      <th>FuelType_gasoline</th>\n",
       "      <th>FuelType_hybrid</th>\n",
       "      <th>FuelType_lpg</th>\n",
       "      <th>FuelType_other</th>\n",
       "      <th>FuelType_petrol</th>\n",
       "      <th>NotRepaired_no</th>\n",
       "      <th>NotRepaired_yes</th>\n",
       "    </tr>\n",
       "  </thead>\n",
       "  <tbody>\n",
       "    <tr>\n",
       "      <th>0</th>\n",
       "      <td>1</td>\n",
       "      <td>18300</td>\n",
       "      <td>2011</td>\n",
       "      <td>190</td>\n",
       "      <td>125000</td>\n",
       "      <td>5</td>\n",
       "      <td>0</td>\n",
       "      <td>0</td>\n",
       "      <td>1</td>\n",
       "      <td>0</td>\n",
       "      <td>...</td>\n",
       "      <td>1</td>\n",
       "      <td>0</td>\n",
       "      <td>0</td>\n",
       "      <td>1</td>\n",
       "      <td>0</td>\n",
       "      <td>0</td>\n",
       "      <td>0</td>\n",
       "      <td>0</td>\n",
       "      <td>0</td>\n",
       "      <td>1</td>\n",
       "    </tr>\n",
       "    <tr>\n",
       "      <th>1</th>\n",
       "      <td>2</td>\n",
       "      <td>9800</td>\n",
       "      <td>2004</td>\n",
       "      <td>163</td>\n",
       "      <td>125000</td>\n",
       "      <td>8</td>\n",
       "      <td>0</td>\n",
       "      <td>0</td>\n",
       "      <td>0</td>\n",
       "      <td>0</td>\n",
       "      <td>...</td>\n",
       "      <td>0</td>\n",
       "      <td>0</td>\n",
       "      <td>0</td>\n",
       "      <td>1</td>\n",
       "      <td>0</td>\n",
       "      <td>0</td>\n",
       "      <td>0</td>\n",
       "      <td>0</td>\n",
       "      <td>0</td>\n",
       "      <td>0</td>\n",
       "    </tr>\n",
       "    <tr>\n",
       "      <th>2</th>\n",
       "      <td>3</td>\n",
       "      <td>1500</td>\n",
       "      <td>2001</td>\n",
       "      <td>75</td>\n",
       "      <td>150000</td>\n",
       "      <td>6</td>\n",
       "      <td>0</td>\n",
       "      <td>0</td>\n",
       "      <td>0</td>\n",
       "      <td>0</td>\n",
       "      <td>...</td>\n",
       "      <td>1</td>\n",
       "      <td>0</td>\n",
       "      <td>0</td>\n",
       "      <td>0</td>\n",
       "      <td>0</td>\n",
       "      <td>0</td>\n",
       "      <td>0</td>\n",
       "      <td>1</td>\n",
       "      <td>1</td>\n",
       "      <td>0</td>\n",
       "    </tr>\n",
       "    <tr>\n",
       "      <th>3</th>\n",
       "      <td>4</td>\n",
       "      <td>3600</td>\n",
       "      <td>2008</td>\n",
       "      <td>69</td>\n",
       "      <td>90000</td>\n",
       "      <td>7</td>\n",
       "      <td>0</td>\n",
       "      <td>0</td>\n",
       "      <td>0</td>\n",
       "      <td>0</td>\n",
       "      <td>...</td>\n",
       "      <td>1</td>\n",
       "      <td>0</td>\n",
       "      <td>0</td>\n",
       "      <td>1</td>\n",
       "      <td>0</td>\n",
       "      <td>0</td>\n",
       "      <td>0</td>\n",
       "      <td>0</td>\n",
       "      <td>1</td>\n",
       "      <td>0</td>\n",
       "    </tr>\n",
       "    <tr>\n",
       "      <th>4</th>\n",
       "      <td>5</td>\n",
       "      <td>650</td>\n",
       "      <td>1995</td>\n",
       "      <td>102</td>\n",
       "      <td>150000</td>\n",
       "      <td>10</td>\n",
       "      <td>0</td>\n",
       "      <td>0</td>\n",
       "      <td>0</td>\n",
       "      <td>0</td>\n",
       "      <td>...</td>\n",
       "      <td>1</td>\n",
       "      <td>0</td>\n",
       "      <td>0</td>\n",
       "      <td>0</td>\n",
       "      <td>0</td>\n",
       "      <td>0</td>\n",
       "      <td>0</td>\n",
       "      <td>1</td>\n",
       "      <td>0</td>\n",
       "      <td>1</td>\n",
       "    </tr>\n",
       "  </tbody>\n",
       "</table>\n",
       "<p>5 rows × 25 columns</p>\n",
       "</div>"
      ],
      "text/plain": [
       "   index  Price  RegistrationYear  Power  Mileage  RegistrationMonth  \\\n",
       "0      1  18300              2011    190   125000                  5   \n",
       "1      2   9800              2004    163   125000                  8   \n",
       "2      3   1500              2001     75   150000                  6   \n",
       "3      4   3600              2008     69    90000                  7   \n",
       "4      5    650              1995    102   150000                 10   \n",
       "\n",
       "   VehicleType_bus  VehicleType_convertible  VehicleType_coupe  \\\n",
       "0                0                        0                  1   \n",
       "1                0                        0                  0   \n",
       "2                0                        0                  0   \n",
       "3                0                        0                  0   \n",
       "4                0                        0                  0   \n",
       "\n",
       "   VehicleType_other  ...  Gearbox_manual  FuelType_cng  FuelType_electric  \\\n",
       "0                  0  ...               1             0                  0   \n",
       "1                  0  ...               0             0                  0   \n",
       "2                  0  ...               1             0                  0   \n",
       "3                  0  ...               1             0                  0   \n",
       "4                  0  ...               1             0                  0   \n",
       "\n",
       "   FuelType_gasoline  FuelType_hybrid  FuelType_lpg  FuelType_other  \\\n",
       "0                  1                0             0               0   \n",
       "1                  1                0             0               0   \n",
       "2                  0                0             0               0   \n",
       "3                  1                0             0               0   \n",
       "4                  0                0             0               0   \n",
       "\n",
       "   FuelType_petrol  NotRepaired_no  NotRepaired_yes  \n",
       "0                0               0                1  \n",
       "1                0               0                0  \n",
       "2                1               1                0  \n",
       "3                0               1                0  \n",
       "4                1               0                1  \n",
       "\n",
       "[5 rows x 25 columns]"
      ]
     },
     "execution_count": 22,
     "metadata": {},
     "output_type": "execute_result"
    }
   ],
   "source": [
    "data_clean_ohe.head()"
   ]
  },
  {
   "cell_type": "code",
   "execution_count": 23,
   "metadata": {},
   "outputs": [],
   "source": [
    "data_clean[['Brand', 'Model']] = OrdinalEncoder().fit_transform(data_clean[['Brand', 'Model']])"
   ]
  },
  {
   "cell_type": "code",
   "execution_count": 24,
   "metadata": {},
   "outputs": [
    {
     "data": {
      "text/html": [
       "<div>\n",
       "<style scoped>\n",
       "    .dataframe tbody tr th:only-of-type {\n",
       "        vertical-align: middle;\n",
       "    }\n",
       "\n",
       "    .dataframe tbody tr th {\n",
       "        vertical-align: top;\n",
       "    }\n",
       "\n",
       "    .dataframe thead th {\n",
       "        text-align: right;\n",
       "    }\n",
       "</style>\n",
       "<table border=\"1\" class=\"dataframe\">\n",
       "  <thead>\n",
       "    <tr style=\"text-align: right;\">\n",
       "      <th></th>\n",
       "      <th>index</th>\n",
       "      <th>Price</th>\n",
       "      <th>VehicleType</th>\n",
       "      <th>RegistrationYear</th>\n",
       "      <th>Gearbox</th>\n",
       "      <th>Power</th>\n",
       "      <th>Model</th>\n",
       "      <th>Mileage</th>\n",
       "      <th>RegistrationMonth</th>\n",
       "      <th>FuelType</th>\n",
       "      <th>Brand</th>\n",
       "      <th>NotRepaired</th>\n",
       "    </tr>\n",
       "  </thead>\n",
       "  <tbody>\n",
       "    <tr>\n",
       "      <th>0</th>\n",
       "      <td>1</td>\n",
       "      <td>18300</td>\n",
       "      <td>coupe</td>\n",
       "      <td>2011</td>\n",
       "      <td>manual</td>\n",
       "      <td>190</td>\n",
       "      <td>26.0</td>\n",
       "      <td>125000</td>\n",
       "      <td>5</td>\n",
       "      <td>gasoline</td>\n",
       "      <td>1.0</td>\n",
       "      <td>yes</td>\n",
       "    </tr>\n",
       "    <tr>\n",
       "      <th>1</th>\n",
       "      <td>2</td>\n",
       "      <td>9800</td>\n",
       "      <td>suv</td>\n",
       "      <td>2004</td>\n",
       "      <td>auto</td>\n",
       "      <td>163</td>\n",
       "      <td>118.0</td>\n",
       "      <td>125000</td>\n",
       "      <td>8</td>\n",
       "      <td>gasoline</td>\n",
       "      <td>14.0</td>\n",
       "      <td>Desconocido</td>\n",
       "    </tr>\n",
       "    <tr>\n",
       "      <th>2</th>\n",
       "      <td>3</td>\n",
       "      <td>1500</td>\n",
       "      <td>small</td>\n",
       "      <td>2001</td>\n",
       "      <td>manual</td>\n",
       "      <td>75</td>\n",
       "      <td>117.0</td>\n",
       "      <td>150000</td>\n",
       "      <td>6</td>\n",
       "      <td>petrol</td>\n",
       "      <td>38.0</td>\n",
       "      <td>no</td>\n",
       "    </tr>\n",
       "    <tr>\n",
       "      <th>3</th>\n",
       "      <td>4</td>\n",
       "      <td>3600</td>\n",
       "      <td>small</td>\n",
       "      <td>2008</td>\n",
       "      <td>manual</td>\n",
       "      <td>69</td>\n",
       "      <td>102.0</td>\n",
       "      <td>90000</td>\n",
       "      <td>7</td>\n",
       "      <td>gasoline</td>\n",
       "      <td>31.0</td>\n",
       "      <td>no</td>\n",
       "    </tr>\n",
       "    <tr>\n",
       "      <th>4</th>\n",
       "      <td>5</td>\n",
       "      <td>650</td>\n",
       "      <td>sedan</td>\n",
       "      <td>1995</td>\n",
       "      <td>manual</td>\n",
       "      <td>102</td>\n",
       "      <td>11.0</td>\n",
       "      <td>150000</td>\n",
       "      <td>10</td>\n",
       "      <td>petrol</td>\n",
       "      <td>2.0</td>\n",
       "      <td>yes</td>\n",
       "    </tr>\n",
       "    <tr>\n",
       "      <th>...</th>\n",
       "      <td>...</td>\n",
       "      <td>...</td>\n",
       "      <td>...</td>\n",
       "      <td>...</td>\n",
       "      <td>...</td>\n",
       "      <td>...</td>\n",
       "      <td>...</td>\n",
       "      <td>...</td>\n",
       "      <td>...</td>\n",
       "      <td>...</td>\n",
       "      <td>...</td>\n",
       "      <td>...</td>\n",
       "    </tr>\n",
       "    <tr>\n",
       "      <th>313458</th>\n",
       "      <td>354361</td>\n",
       "      <td>5250</td>\n",
       "      <td>Desconocido</td>\n",
       "      <td>2016</td>\n",
       "      <td>auto</td>\n",
       "      <td>150</td>\n",
       "      <td>4.0</td>\n",
       "      <td>150000</td>\n",
       "      <td>12</td>\n",
       "      <td>Desconocido</td>\n",
       "      <td>0.0</td>\n",
       "      <td>no</td>\n",
       "    </tr>\n",
       "    <tr>\n",
       "      <th>313459</th>\n",
       "      <td>354362</td>\n",
       "      <td>3200</td>\n",
       "      <td>sedan</td>\n",
       "      <td>2004</td>\n",
       "      <td>manual</td>\n",
       "      <td>225</td>\n",
       "      <td>141.0</td>\n",
       "      <td>150000</td>\n",
       "      <td>5</td>\n",
       "      <td>petrol</td>\n",
       "      <td>30.0</td>\n",
       "      <td>yes</td>\n",
       "    </tr>\n",
       "    <tr>\n",
       "      <th>313460</th>\n",
       "      <td>354366</td>\n",
       "      <td>1199</td>\n",
       "      <td>convertible</td>\n",
       "      <td>2000</td>\n",
       "      <td>auto</td>\n",
       "      <td>101</td>\n",
       "      <td>107.0</td>\n",
       "      <td>125000</td>\n",
       "      <td>3</td>\n",
       "      <td>petrol</td>\n",
       "      <td>32.0</td>\n",
       "      <td>no</td>\n",
       "    </tr>\n",
       "    <tr>\n",
       "      <th>313461</th>\n",
       "      <td>354367</td>\n",
       "      <td>9200</td>\n",
       "      <td>bus</td>\n",
       "      <td>1996</td>\n",
       "      <td>manual</td>\n",
       "      <td>102</td>\n",
       "      <td>224.0</td>\n",
       "      <td>150000</td>\n",
       "      <td>3</td>\n",
       "      <td>gasoline</td>\n",
       "      <td>38.0</td>\n",
       "      <td>no</td>\n",
       "    </tr>\n",
       "    <tr>\n",
       "      <th>313462</th>\n",
       "      <td>354368</td>\n",
       "      <td>3400</td>\n",
       "      <td>wagon</td>\n",
       "      <td>2002</td>\n",
       "      <td>manual</td>\n",
       "      <td>100</td>\n",
       "      <td>117.0</td>\n",
       "      <td>150000</td>\n",
       "      <td>6</td>\n",
       "      <td>gasoline</td>\n",
       "      <td>38.0</td>\n",
       "      <td>Desconocido</td>\n",
       "    </tr>\n",
       "  </tbody>\n",
       "</table>\n",
       "<p>313463 rows × 12 columns</p>\n",
       "</div>"
      ],
      "text/plain": [
       "         index  Price  VehicleType  RegistrationYear Gearbox  Power  Model  \\\n",
       "0            1  18300        coupe              2011  manual    190   26.0   \n",
       "1            2   9800          suv              2004    auto    163  118.0   \n",
       "2            3   1500        small              2001  manual     75  117.0   \n",
       "3            4   3600        small              2008  manual     69  102.0   \n",
       "4            5    650        sedan              1995  manual    102   11.0   \n",
       "...        ...    ...          ...               ...     ...    ...    ...   \n",
       "313458  354361   5250  Desconocido              2016    auto    150    4.0   \n",
       "313459  354362   3200        sedan              2004  manual    225  141.0   \n",
       "313460  354366   1199  convertible              2000    auto    101  107.0   \n",
       "313461  354367   9200          bus              1996  manual    102  224.0   \n",
       "313462  354368   3400        wagon              2002  manual    100  117.0   \n",
       "\n",
       "        Mileage  RegistrationMonth     FuelType  Brand  NotRepaired  \n",
       "0        125000                  5     gasoline    1.0          yes  \n",
       "1        125000                  8     gasoline   14.0  Desconocido  \n",
       "2        150000                  6       petrol   38.0           no  \n",
       "3         90000                  7     gasoline   31.0           no  \n",
       "4        150000                 10       petrol    2.0          yes  \n",
       "...         ...                ...          ...    ...          ...  \n",
       "313458   150000                 12  Desconocido    0.0           no  \n",
       "313459   150000                  5       petrol   30.0          yes  \n",
       "313460   125000                  3       petrol   32.0           no  \n",
       "313461   150000                  3     gasoline   38.0           no  \n",
       "313462   150000                  6     gasoline   38.0  Desconocido  \n",
       "\n",
       "[313463 rows x 12 columns]"
      ]
     },
     "execution_count": 24,
     "metadata": {},
     "output_type": "execute_result"
    }
   ],
   "source": [
    "data_clean"
   ]
  },
  {
   "cell_type": "code",
   "execution_count": 25,
   "metadata": {},
   "outputs": [],
   "source": [
    "data_clean_encode = pd.get_dummies(data_clean, drop_first = True)"
   ]
  },
  {
   "cell_type": "code",
   "execution_count": 26,
   "metadata": {},
   "outputs": [
    {
     "data": {
      "text/html": [
       "<div>\n",
       "<style scoped>\n",
       "    .dataframe tbody tr th:only-of-type {\n",
       "        vertical-align: middle;\n",
       "    }\n",
       "\n",
       "    .dataframe tbody tr th {\n",
       "        vertical-align: top;\n",
       "    }\n",
       "\n",
       "    .dataframe thead th {\n",
       "        text-align: right;\n",
       "    }\n",
       "</style>\n",
       "<table border=\"1\" class=\"dataframe\">\n",
       "  <thead>\n",
       "    <tr style=\"text-align: right;\">\n",
       "      <th></th>\n",
       "      <th>index</th>\n",
       "      <th>Price</th>\n",
       "      <th>RegistrationYear</th>\n",
       "      <th>Power</th>\n",
       "      <th>Model</th>\n",
       "      <th>Mileage</th>\n",
       "      <th>RegistrationMonth</th>\n",
       "      <th>Brand</th>\n",
       "      <th>VehicleType_bus</th>\n",
       "      <th>VehicleType_convertible</th>\n",
       "      <th>...</th>\n",
       "      <th>Gearbox_manual</th>\n",
       "      <th>FuelType_cng</th>\n",
       "      <th>FuelType_electric</th>\n",
       "      <th>FuelType_gasoline</th>\n",
       "      <th>FuelType_hybrid</th>\n",
       "      <th>FuelType_lpg</th>\n",
       "      <th>FuelType_other</th>\n",
       "      <th>FuelType_petrol</th>\n",
       "      <th>NotRepaired_no</th>\n",
       "      <th>NotRepaired_yes</th>\n",
       "    </tr>\n",
       "  </thead>\n",
       "  <tbody>\n",
       "    <tr>\n",
       "      <th>0</th>\n",
       "      <td>1</td>\n",
       "      <td>18300</td>\n",
       "      <td>2011</td>\n",
       "      <td>190</td>\n",
       "      <td>26.0</td>\n",
       "      <td>125000</td>\n",
       "      <td>5</td>\n",
       "      <td>1.0</td>\n",
       "      <td>0</td>\n",
       "      <td>0</td>\n",
       "      <td>...</td>\n",
       "      <td>1</td>\n",
       "      <td>0</td>\n",
       "      <td>0</td>\n",
       "      <td>1</td>\n",
       "      <td>0</td>\n",
       "      <td>0</td>\n",
       "      <td>0</td>\n",
       "      <td>0</td>\n",
       "      <td>0</td>\n",
       "      <td>1</td>\n",
       "    </tr>\n",
       "    <tr>\n",
       "      <th>1</th>\n",
       "      <td>2</td>\n",
       "      <td>9800</td>\n",
       "      <td>2004</td>\n",
       "      <td>163</td>\n",
       "      <td>118.0</td>\n",
       "      <td>125000</td>\n",
       "      <td>8</td>\n",
       "      <td>14.0</td>\n",
       "      <td>0</td>\n",
       "      <td>0</td>\n",
       "      <td>...</td>\n",
       "      <td>0</td>\n",
       "      <td>0</td>\n",
       "      <td>0</td>\n",
       "      <td>1</td>\n",
       "      <td>0</td>\n",
       "      <td>0</td>\n",
       "      <td>0</td>\n",
       "      <td>0</td>\n",
       "      <td>0</td>\n",
       "      <td>0</td>\n",
       "    </tr>\n",
       "    <tr>\n",
       "      <th>2</th>\n",
       "      <td>3</td>\n",
       "      <td>1500</td>\n",
       "      <td>2001</td>\n",
       "      <td>75</td>\n",
       "      <td>117.0</td>\n",
       "      <td>150000</td>\n",
       "      <td>6</td>\n",
       "      <td>38.0</td>\n",
       "      <td>0</td>\n",
       "      <td>0</td>\n",
       "      <td>...</td>\n",
       "      <td>1</td>\n",
       "      <td>0</td>\n",
       "      <td>0</td>\n",
       "      <td>0</td>\n",
       "      <td>0</td>\n",
       "      <td>0</td>\n",
       "      <td>0</td>\n",
       "      <td>1</td>\n",
       "      <td>1</td>\n",
       "      <td>0</td>\n",
       "    </tr>\n",
       "    <tr>\n",
       "      <th>3</th>\n",
       "      <td>4</td>\n",
       "      <td>3600</td>\n",
       "      <td>2008</td>\n",
       "      <td>69</td>\n",
       "      <td>102.0</td>\n",
       "      <td>90000</td>\n",
       "      <td>7</td>\n",
       "      <td>31.0</td>\n",
       "      <td>0</td>\n",
       "      <td>0</td>\n",
       "      <td>...</td>\n",
       "      <td>1</td>\n",
       "      <td>0</td>\n",
       "      <td>0</td>\n",
       "      <td>1</td>\n",
       "      <td>0</td>\n",
       "      <td>0</td>\n",
       "      <td>0</td>\n",
       "      <td>0</td>\n",
       "      <td>1</td>\n",
       "      <td>0</td>\n",
       "    </tr>\n",
       "    <tr>\n",
       "      <th>4</th>\n",
       "      <td>5</td>\n",
       "      <td>650</td>\n",
       "      <td>1995</td>\n",
       "      <td>102</td>\n",
       "      <td>11.0</td>\n",
       "      <td>150000</td>\n",
       "      <td>10</td>\n",
       "      <td>2.0</td>\n",
       "      <td>0</td>\n",
       "      <td>0</td>\n",
       "      <td>...</td>\n",
       "      <td>1</td>\n",
       "      <td>0</td>\n",
       "      <td>0</td>\n",
       "      <td>0</td>\n",
       "      <td>0</td>\n",
       "      <td>0</td>\n",
       "      <td>0</td>\n",
       "      <td>1</td>\n",
       "      <td>0</td>\n",
       "      <td>1</td>\n",
       "    </tr>\n",
       "    <tr>\n",
       "      <th>...</th>\n",
       "      <td>...</td>\n",
       "      <td>...</td>\n",
       "      <td>...</td>\n",
       "      <td>...</td>\n",
       "      <td>...</td>\n",
       "      <td>...</td>\n",
       "      <td>...</td>\n",
       "      <td>...</td>\n",
       "      <td>...</td>\n",
       "      <td>...</td>\n",
       "      <td>...</td>\n",
       "      <td>...</td>\n",
       "      <td>...</td>\n",
       "      <td>...</td>\n",
       "      <td>...</td>\n",
       "      <td>...</td>\n",
       "      <td>...</td>\n",
       "      <td>...</td>\n",
       "      <td>...</td>\n",
       "      <td>...</td>\n",
       "      <td>...</td>\n",
       "    </tr>\n",
       "    <tr>\n",
       "      <th>313458</th>\n",
       "      <td>354361</td>\n",
       "      <td>5250</td>\n",
       "      <td>2016</td>\n",
       "      <td>150</td>\n",
       "      <td>4.0</td>\n",
       "      <td>150000</td>\n",
       "      <td>12</td>\n",
       "      <td>0.0</td>\n",
       "      <td>0</td>\n",
       "      <td>0</td>\n",
       "      <td>...</td>\n",
       "      <td>0</td>\n",
       "      <td>0</td>\n",
       "      <td>0</td>\n",
       "      <td>0</td>\n",
       "      <td>0</td>\n",
       "      <td>0</td>\n",
       "      <td>0</td>\n",
       "      <td>0</td>\n",
       "      <td>1</td>\n",
       "      <td>0</td>\n",
       "    </tr>\n",
       "    <tr>\n",
       "      <th>313459</th>\n",
       "      <td>354362</td>\n",
       "      <td>3200</td>\n",
       "      <td>2004</td>\n",
       "      <td>225</td>\n",
       "      <td>141.0</td>\n",
       "      <td>150000</td>\n",
       "      <td>5</td>\n",
       "      <td>30.0</td>\n",
       "      <td>0</td>\n",
       "      <td>0</td>\n",
       "      <td>...</td>\n",
       "      <td>1</td>\n",
       "      <td>0</td>\n",
       "      <td>0</td>\n",
       "      <td>0</td>\n",
       "      <td>0</td>\n",
       "      <td>0</td>\n",
       "      <td>0</td>\n",
       "      <td>1</td>\n",
       "      <td>0</td>\n",
       "      <td>1</td>\n",
       "    </tr>\n",
       "    <tr>\n",
       "      <th>313460</th>\n",
       "      <td>354366</td>\n",
       "      <td>1199</td>\n",
       "      <td>2000</td>\n",
       "      <td>101</td>\n",
       "      <td>107.0</td>\n",
       "      <td>125000</td>\n",
       "      <td>3</td>\n",
       "      <td>32.0</td>\n",
       "      <td>0</td>\n",
       "      <td>1</td>\n",
       "      <td>...</td>\n",
       "      <td>0</td>\n",
       "      <td>0</td>\n",
       "      <td>0</td>\n",
       "      <td>0</td>\n",
       "      <td>0</td>\n",
       "      <td>0</td>\n",
       "      <td>0</td>\n",
       "      <td>1</td>\n",
       "      <td>1</td>\n",
       "      <td>0</td>\n",
       "    </tr>\n",
       "    <tr>\n",
       "      <th>313461</th>\n",
       "      <td>354367</td>\n",
       "      <td>9200</td>\n",
       "      <td>1996</td>\n",
       "      <td>102</td>\n",
       "      <td>224.0</td>\n",
       "      <td>150000</td>\n",
       "      <td>3</td>\n",
       "      <td>38.0</td>\n",
       "      <td>1</td>\n",
       "      <td>0</td>\n",
       "      <td>...</td>\n",
       "      <td>1</td>\n",
       "      <td>0</td>\n",
       "      <td>0</td>\n",
       "      <td>1</td>\n",
       "      <td>0</td>\n",
       "      <td>0</td>\n",
       "      <td>0</td>\n",
       "      <td>0</td>\n",
       "      <td>1</td>\n",
       "      <td>0</td>\n",
       "    </tr>\n",
       "    <tr>\n",
       "      <th>313462</th>\n",
       "      <td>354368</td>\n",
       "      <td>3400</td>\n",
       "      <td>2002</td>\n",
       "      <td>100</td>\n",
       "      <td>117.0</td>\n",
       "      <td>150000</td>\n",
       "      <td>6</td>\n",
       "      <td>38.0</td>\n",
       "      <td>0</td>\n",
       "      <td>0</td>\n",
       "      <td>...</td>\n",
       "      <td>1</td>\n",
       "      <td>0</td>\n",
       "      <td>0</td>\n",
       "      <td>1</td>\n",
       "      <td>0</td>\n",
       "      <td>0</td>\n",
       "      <td>0</td>\n",
       "      <td>0</td>\n",
       "      <td>0</td>\n",
       "      <td>0</td>\n",
       "    </tr>\n",
       "  </tbody>\n",
       "</table>\n",
       "<p>313463 rows × 27 columns</p>\n",
       "</div>"
      ],
      "text/plain": [
       "         index  Price  RegistrationYear  Power  Model  Mileage  \\\n",
       "0            1  18300              2011    190   26.0   125000   \n",
       "1            2   9800              2004    163  118.0   125000   \n",
       "2            3   1500              2001     75  117.0   150000   \n",
       "3            4   3600              2008     69  102.0    90000   \n",
       "4            5    650              1995    102   11.0   150000   \n",
       "...        ...    ...               ...    ...    ...      ...   \n",
       "313458  354361   5250              2016    150    4.0   150000   \n",
       "313459  354362   3200              2004    225  141.0   150000   \n",
       "313460  354366   1199              2000    101  107.0   125000   \n",
       "313461  354367   9200              1996    102  224.0   150000   \n",
       "313462  354368   3400              2002    100  117.0   150000   \n",
       "\n",
       "        RegistrationMonth  Brand  VehicleType_bus  VehicleType_convertible  \\\n",
       "0                       5    1.0                0                        0   \n",
       "1                       8   14.0                0                        0   \n",
       "2                       6   38.0                0                        0   \n",
       "3                       7   31.0                0                        0   \n",
       "4                      10    2.0                0                        0   \n",
       "...                   ...    ...              ...                      ...   \n",
       "313458                 12    0.0                0                        0   \n",
       "313459                  5   30.0                0                        0   \n",
       "313460                  3   32.0                0                        1   \n",
       "313461                  3   38.0                1                        0   \n",
       "313462                  6   38.0                0                        0   \n",
       "\n",
       "        ...  Gearbox_manual  FuelType_cng  FuelType_electric  \\\n",
       "0       ...               1             0                  0   \n",
       "1       ...               0             0                  0   \n",
       "2       ...               1             0                  0   \n",
       "3       ...               1             0                  0   \n",
       "4       ...               1             0                  0   \n",
       "...     ...             ...           ...                ...   \n",
       "313458  ...               0             0                  0   \n",
       "313459  ...               1             0                  0   \n",
       "313460  ...               0             0                  0   \n",
       "313461  ...               1             0                  0   \n",
       "313462  ...               1             0                  0   \n",
       "\n",
       "        FuelType_gasoline  FuelType_hybrid  FuelType_lpg  FuelType_other  \\\n",
       "0                       1                0             0               0   \n",
       "1                       1                0             0               0   \n",
       "2                       0                0             0               0   \n",
       "3                       1                0             0               0   \n",
       "4                       0                0             0               0   \n",
       "...                   ...              ...           ...             ...   \n",
       "313458                  0                0             0               0   \n",
       "313459                  0                0             0               0   \n",
       "313460                  0                0             0               0   \n",
       "313461                  1                0             0               0   \n",
       "313462                  1                0             0               0   \n",
       "\n",
       "        FuelType_petrol  NotRepaired_no  NotRepaired_yes  \n",
       "0                     0               0                1  \n",
       "1                     0               0                0  \n",
       "2                     1               1                0  \n",
       "3                     0               1                0  \n",
       "4                     1               0                1  \n",
       "...                 ...             ...              ...  \n",
       "313458                0               1                0  \n",
       "313459                1               0                1  \n",
       "313460                1               1                0  \n",
       "313461                0               1                0  \n",
       "313462                0               0                0  \n",
       "\n",
       "[313463 rows x 27 columns]"
      ]
     },
     "execution_count": 26,
     "metadata": {},
     "output_type": "execute_result"
    }
   ],
   "source": [
    "data_clean_encode"
   ]
  },
  {
   "cell_type": "code",
   "execution_count": 27,
   "metadata": {},
   "outputs": [
    {
     "data": {
      "text/plain": [
       "['index', 'Price', 'RegistrationYear', 'Power', 'Mileage', 'RegistrationMonth']"
      ]
     },
     "execution_count": 27,
     "metadata": {},
     "output_type": "execute_result"
    }
   ],
   "source": [
    "#Selección de los datos categoricos \n",
    "numeric= list(data_clean.dtypes[data_clean.dtypes == 'int64'].index)\n",
    "numeric"
   ]
  },
  {
   "cell_type": "code",
   "execution_count": 28,
   "metadata": {},
   "outputs": [
    {
     "data": {
      "text/html": [
       "<div>\n",
       "<style scoped>\n",
       "    .dataframe tbody tr th:only-of-type {\n",
       "        vertical-align: middle;\n",
       "    }\n",
       "\n",
       "    .dataframe tbody tr th {\n",
       "        vertical-align: top;\n",
       "    }\n",
       "\n",
       "    .dataframe thead th {\n",
       "        text-align: right;\n",
       "    }\n",
       "</style>\n",
       "<table border=\"1\" class=\"dataframe\">\n",
       "  <thead>\n",
       "    <tr style=\"text-align: right;\">\n",
       "      <th></th>\n",
       "      <th>index</th>\n",
       "      <th>Price</th>\n",
       "      <th>VehicleType</th>\n",
       "      <th>RegistrationYear</th>\n",
       "      <th>Gearbox</th>\n",
       "      <th>Power</th>\n",
       "      <th>Model</th>\n",
       "      <th>Mileage</th>\n",
       "      <th>RegistrationMonth</th>\n",
       "      <th>FuelType</th>\n",
       "      <th>Brand</th>\n",
       "      <th>NotRepaired</th>\n",
       "    </tr>\n",
       "  </thead>\n",
       "  <tbody>\n",
       "    <tr>\n",
       "      <th>0</th>\n",
       "      <td>1</td>\n",
       "      <td>2.962952</td>\n",
       "      <td>coupe</td>\n",
       "      <td>1.126982</td>\n",
       "      <td>manual</td>\n",
       "      <td>0.333447</td>\n",
       "      <td>26.0</td>\n",
       "      <td>-0.099207</td>\n",
       "      <td>-0.258968</td>\n",
       "      <td>gasoline</td>\n",
       "      <td>1.0</td>\n",
       "      <td>yes</td>\n",
       "    </tr>\n",
       "    <tr>\n",
       "      <th>1</th>\n",
       "      <td>2</td>\n",
       "      <td>1.110773</td>\n",
       "      <td>suv</td>\n",
       "      <td>0.103717</td>\n",
       "      <td>auto</td>\n",
       "      <td>0.196396</td>\n",
       "      <td>118.0</td>\n",
       "      <td>-0.099207</td>\n",
       "      <td>0.570759</td>\n",
       "      <td>gasoline</td>\n",
       "      <td>14.0</td>\n",
       "      <td>Desconocido</td>\n",
       "    </tr>\n",
       "    <tr>\n",
       "      <th>2</th>\n",
       "      <td>3</td>\n",
       "      <td>-0.697826</td>\n",
       "      <td>small</td>\n",
       "      <td>-0.334825</td>\n",
       "      <td>manual</td>\n",
       "      <td>-0.250288</td>\n",
       "      <td>117.0</td>\n",
       "      <td>0.582851</td>\n",
       "      <td>0.017608</td>\n",
       "      <td>petrol</td>\n",
       "      <td>38.0</td>\n",
       "      <td>no</td>\n",
       "    </tr>\n",
       "    <tr>\n",
       "      <th>3</th>\n",
       "      <td>4</td>\n",
       "      <td>-0.240229</td>\n",
       "      <td>small</td>\n",
       "      <td>0.688440</td>\n",
       "      <td>manual</td>\n",
       "      <td>-0.280744</td>\n",
       "      <td>102.0</td>\n",
       "      <td>-1.054088</td>\n",
       "      <td>0.294183</td>\n",
       "      <td>gasoline</td>\n",
       "      <td>31.0</td>\n",
       "      <td>no</td>\n",
       "    </tr>\n",
       "    <tr>\n",
       "      <th>4</th>\n",
       "      <td>5</td>\n",
       "      <td>-0.883044</td>\n",
       "      <td>sedan</td>\n",
       "      <td>-1.211909</td>\n",
       "      <td>manual</td>\n",
       "      <td>-0.113237</td>\n",
       "      <td>11.0</td>\n",
       "      <td>0.582851</td>\n",
       "      <td>1.123909</td>\n",
       "      <td>petrol</td>\n",
       "      <td>2.0</td>\n",
       "      <td>yes</td>\n",
       "    </tr>\n",
       "  </tbody>\n",
       "</table>\n",
       "</div>"
      ],
      "text/plain": [
       "   index     Price VehicleType  RegistrationYear Gearbox     Power  Model  \\\n",
       "0      1  2.962952       coupe          1.126982  manual  0.333447   26.0   \n",
       "1      2  1.110773         suv          0.103717    auto  0.196396  118.0   \n",
       "2      3 -0.697826       small         -0.334825  manual -0.250288  117.0   \n",
       "3      4 -0.240229       small          0.688440  manual -0.280744  102.0   \n",
       "4      5 -0.883044       sedan         -1.211909  manual -0.113237   11.0   \n",
       "\n",
       "    Mileage  RegistrationMonth  FuelType  Brand  NotRepaired  \n",
       "0 -0.099207          -0.258968  gasoline    1.0          yes  \n",
       "1 -0.099207           0.570759  gasoline   14.0  Desconocido  \n",
       "2  0.582851           0.017608    petrol   38.0           no  \n",
       "3 -1.054088           0.294183  gasoline   31.0           no  \n",
       "4  0.582851           1.123909    petrol    2.0          yes  "
      ]
     },
     "execution_count": 28,
     "metadata": {},
     "output_type": "execute_result"
    }
   ],
   "source": [
    "#Creación de una instacia de StandarScales \n",
    "scaler = StandardScaler()\n",
    "\n",
    "#Identificación de comunas numéricas \n",
    "numeric_columns = ['Price', 'RegistrationYear', 'Power', 'Mileage', 'RegistrationMonth']\n",
    "\n",
    "#Ajustar el escalado y transformación de las columnas numéricas \n",
    "data_clean[numeric_columns] = scaler.fit_transform(data_clean[numeric_columns])\n",
    "\n",
    "#Verificación del cambio \n",
    "data_clean.head() "
   ]
  },
  {
   "cell_type": "code",
   "execution_count": 29,
   "metadata": {},
   "outputs": [],
   "source": [
    "#Dividir el datset\n",
    "train_valid, test = train_test_split(data_clean_encode, test_size = 0.20, random_state = 12345)\n",
    "train, valid = train_test_split(train_valid, test_size = 0.25)"
   ]
  },
  {
   "cell_type": "code",
   "execution_count": 30,
   "metadata": {},
   "outputs": [
    {
     "name": "stdout",
     "output_type": "stream",
     "text": [
      "El tamaño del conjunto de entrenamiento es de (188077, 27)\n",
      "El tamaño del conjunto de validación (62693, 27)\n",
      "El tamaño del conjunto de prueba (62693, 27)\n"
     ]
    }
   ],
   "source": [
    "#Verificación del tamaño de cada conjunto \n",
    "print(f'El tamaño del conjunto de entrenamiento es de {train.shape}')\n",
    "print(f'El tamaño del conjunto de validación {valid.shape}')\n",
    "print(f'El tamaño del conjunto de prueba {test.shape}')"
   ]
  },
  {
   "cell_type": "code",
   "execution_count": 31,
   "metadata": {},
   "outputs": [],
   "source": [
    "# Dividir las características y el objetivo para cada conjunto\n",
    "features_train = train.drop(columns=['Price'])\n",
    "targets_train = train['Price']\n",
    "\n",
    "features_valid = valid.drop(columns=['Price'])\n",
    "targets_valid = valid['Price']\n",
    "\n",
    "features_test = test.drop(columns=['Price'])\n",
    "targets_test = test['Price']"
   ]
  },
  {
   "cell_type": "markdown",
   "metadata": {},
   "source": [
    "# Modelo de Regresión Lineal "
   ]
  },
  {
   "cell_type": "code",
   "execution_count": 32,
   "metadata": {},
   "outputs": [
    {
     "name": "stdout",
     "output_type": "stream",
     "text": [
      "Tiempo de entrenamiento: 0.1023249626159668\n",
      "Regresión Lineal\n",
      "El RMSE es de 3187.27138540912\n",
      "Tiempo de predicción:0.07831549644470215\n"
     ]
    }
   ],
   "source": [
    "\n",
    "model_lr = LinearRegression() \n",
    "\n",
    "\n",
    "# Entrenamiento del modelo y medición del tiempo\n",
    "start_time = time.time()\n",
    "model_lr.fit(features_train, targets_train)\n",
    "end_time = time.time()\n",
    "\n",
    "training_time = end_time - start_time\n",
    "\n",
    "\n",
    "#Predicciones \n",
    "start_time_pred = time.time()\n",
    "predictions_valid = model_lr.predict(features_valid)\n",
    "end_time_pred = time.time()\n",
    "predict_time = end_time_pred - start_time_pred\n",
    "\n",
    "#Calculo de RMSE \n",
    "mse= mean_squared_error(targets_valid, predictions_valid)\n",
    "\n",
    "rmse = np.sqrt(mse)\n",
    "\n",
    "print(\"Regresión Lineal\")\n",
    "print(\"Tiempo de entrenamiento:\", training_time)\n",
    "print(f\"El RMSE es de {rmse}\")\n",
    "print(f\"Tiempo de predicción:{predict_time}\")"
   ]
  },
  {
   "cell_type": "markdown",
   "metadata": {},
   "source": [
    "# Decision Tree"
   ]
  },
  {
   "cell_type": "code",
   "execution_count": 33,
   "metadata": {
    "scrolled": true
   },
   "outputs": [
    {
     "name": "stdout",
     "output_type": "stream",
     "text": [
      "Deccision Tree\n",
      "Mejores parámetros:  {'splitter': 'best', 'min_samples_split': 2, 'min_samples_leaf': 6, 'max_features': None, 'max_depth': 20, 'criterion': 'mse'}\n",
      "Root Mean Squared Error: 5652.3610104741865\n",
      "Tiempo de entrenamiento: 88.22712087631226\n",
      "Tiempo de predicción: 0.015276432037353516\n"
     ]
    }
   ],
   "source": [
    "\n",
    "# Separar características y objetivos para train_valid y test\n",
    "features_train_valid = train_valid.drop(columns=['Price'])\n",
    "targets_train_valid = train_valid['Price']\n",
    "\n",
    "features_test = test.drop(columns=['Price'])\n",
    "targets_test = test['Price']\n",
    "\n",
    "# Definición del modelo\n",
    "model_tree = DecisionTreeRegressor(random_state=12345)\n",
    "\n",
    "# Definición de parámetros para RandomizedSearchCV\n",
    "param_dist = {\n",
    "    'criterion' : [\"friedman_mse\", \"mse\"],\n",
    "    'splitter' : [\"best\", \"random\"],\n",
    "    \"max_depth\" : [5, 10, 15, 20],\n",
    "    'min_samples_split': [2, 5, 10, 15],\n",
    "    'min_samples_leaf': [1, 2, 4, 6],\n",
    "    'max_features': [None, 'sqrt', 'log2']\n",
    "}\n",
    "\n",
    "# Definir el escore basado en RMSE\n",
    "scorer = make_scorer(mean_squared_error, greater_is_better=False)\n",
    "\n",
    "# Objeto RandomizedSearchCV\n",
    "random_search = RandomizedSearchCV(\n",
    "    estimator=model_tree,\n",
    "    param_distributions=param_dist,\n",
    "    n_iter=50,  # Número de combinaciones a probar\n",
    "    scoring=scorer,\n",
    "    cv=5,  # Número de folds de cross-validation\n",
    "    n_jobs=-1,  # Usar todos los núcleos disponibles\n",
    "    random_state=12345\n",
    ")\n",
    "\n",
    "# Ajustar el RandomizedSearchCV\n",
    "start_time = time.time()\n",
    "random_search.fit(features_train_valid, targets_train_valid)\n",
    "end_time = time.time()\n",
    "\n",
    "# Obtener los mejores parámetros \n",
    "best_params = random_search.best_params_\n",
    "\n",
    "# Obtener el mejor modelo\n",
    "best_model = random_search.best_estimator_\n",
    "\n",
    "# Obtener predicciones del mejor modelo en el conjunto de validación\n",
    "start_time_pred = time.time()\n",
    "predictions_valid_ohe = best_model.predict(features_test)\n",
    "end_time_pred = time.time()\n",
    "\n",
    "# Calculo de RMSE\n",
    "rmse = np.sqrt(mean_squared_error(targets_test, predictions_valid))\n",
    "\n",
    "predict_time = end_time_pred - start_time_pred\n",
    "training_time = end_time - start_time\n",
    "\n",
    "# Mostrar resultados\n",
    "print(\"Deccision Tree\")\n",
    "print(\"Mejores parámetros: \", best_params)\n",
    "print(\"Root Mean Squared Error:\", rmse)\n",
    "print(\"Tiempo de entrenamiento:\", training_time)\n",
    "print(\"Tiempo de predicción:\", predict_time)"
   ]
  },
  {
   "cell_type": "markdown",
   "metadata": {},
   "source": [
    "# LightGBM"
   ]
  },
  {
   "cell_type": "code",
   "execution_count": 34,
   "metadata": {},
   "outputs": [
    {
     "name": "stdout",
     "output_type": "stream",
     "text": [
      "LightGBM - RMSE: 1805.7784046838417, Training Time: 2.82635760307312, Prediction Time: 0.31023406982421875\n"
     ]
    }
   ],
   "source": [
    "lgb_model = lgb.LGBMRegressor(n_estimators=100, learning_rate=0.1, random_state=12345)\n",
    "start_time = time.time()\n",
    "lgb_model.fit(features_train, targets_train)\n",
    "lgb_train_time = time.time() - start_time\n",
    "\n",
    "start_time = time.time()\n",
    "lgb_predictions = lgb_model.predict(features_valid)\n",
    "lgb_pred_time = time.time() - start_time\n",
    "\n",
    "lgb_rmse = mean_squared_error(targets_valid, lgb_predictions, squared=False)\n",
    "print(f\"LightGBM - RMSE: {lgb_rmse}, Training Time: {lgb_train_time}, Prediction Time: {lgb_pred_time}\")"
   ]
  },
  {
   "cell_type": "markdown",
   "metadata": {},
   "source": [
    "# XGBoost"
   ]
  },
  {
   "cell_type": "code",
   "execution_count": 35,
   "metadata": {},
   "outputs": [
    {
     "name": "stdout",
     "output_type": "stream",
     "text": [
      "XGBoost - RMSE: 1805.918175701161, Training Time: 34.78739380836487, Prediction Time: 0.19098114967346191\n"
     ]
    }
   ],
   "source": [
    "xgb_model = xgb.XGBRegressor(n_estimators=100, learning_rate=0.1, random_state=12345)\n",
    "start_time = time.time()\n",
    "xgb_model.fit(features_train, targets_train)\n",
    "xgb_train_time = time.time() - start_time\n",
    "\n",
    "start_time = time.time()\n",
    "xgb_predictions = xgb_model.predict(features_valid)\n",
    "xgb_pred_time = time.time() - start_time\n",
    "\n",
    "xgb_rmse = mean_squared_error(targets_valid, xgb_predictions, squared=False)\n",
    "print(f\"XGBoost - RMSE: {xgb_rmse}, Training Time: {xgb_train_time}, Prediction Time: {xgb_pred_time}\")"
   ]
  },
  {
   "cell_type": "markdown",
   "metadata": {},
   "source": [
    "# CatBoost"
   ]
  },
  {
   "cell_type": "code",
   "execution_count": 36,
   "metadata": {},
   "outputs": [
    {
     "name": "stdout",
     "output_type": "stream",
     "text": [
      "CatBoost - RMSE: 1923.5337561979898, Training Time: 2.2629148960113525, Prediction Time: 0.009569168090820312\n"
     ]
    }
   ],
   "source": [
    "cat_model = CatBoostRegressor(n_estimators=100, learning_rate=0.1, random_state=12345, verbose=0)\n",
    "start_time = time.time()\n",
    "cat_model.fit(features_train, targets_train)\n",
    "cat_train_time = time.time() - start_time\n",
    "\n",
    "start_time = time.time()\n",
    "cat_predictions = cat_model.predict(features_valid)\n",
    "cat_pred_time = time.time() - start_time\n",
    "\n",
    "cat_rmse = mean_squared_error(targets_valid, cat_predictions, squared=False)\n",
    "print(f\"CatBoost - RMSE: {cat_rmse}, Training Time: {cat_train_time}, Prediction Time: {cat_pred_time}\")\n"
   ]
  },
  {
   "cell_type": "markdown",
   "metadata": {},
   "source": [
    "## Análisis del modelo"
   ]
  },
  {
   "cell_type": "markdown",
   "metadata": {},
   "source": [
    "Tras evaluar diferentes modelos de regresión para predecir el valor de mercado de coches de segunda mano, se han obtenido los siguientes hallazgos clave:\n",
    "\n",
    "Regresión Lineal:\n",
    "\n",
    "* Ventaja: Es el modelo más rápido de entrenar (0.10s) y tiene un tiempo de predicción relativamente bajo.\n",
    "\n",
    "* Desventaja: Aunque su RMSE (3187.27) es aceptable, hay modelos más precisos.\n",
    "\n",
    "Árbol de Decisión:\n",
    "\n",
    "* Ventaja: Permite interpretabilidad y ajuste de hiperparámetros.\n",
    "\n",
    "* Desventaja: Su RMSE (5652.36) es el peor de todos, lo que indica sobreajuste o falta de generalización. Además, su tiempo de entrenamiento (88.22s) es excesivo en comparación con otros modelos.\n",
    "\n",
    "Boosting (LightGBM, XGBoost, CatBoost): \n",
    "\n",
    "* LightGBM fue el mejor modelo en términos de precisión (RMSE: 1805.77) con un tiempo de entrenamiento moderado (2.83s).\n",
    "\n",
    "* XGBoost logró un RMSE similar (1805.91), pero con un tiempo de entrenamiento significativamente más alto (34.79s).\n",
    "\n",
    "* CatBoost también fue competitivo (RMSE: 1923.53), con el entrenamiento más rápido de los tres (2.26s) y la predicción más rápida (0.009s).\n",
    "\n",
    "Recomendaciones: \n",
    "\n",
    "* LightGBM es la mejor opción para este problema, ya que equilibra bien precisión y velocidad.\n",
    "* XGBoost no aporta mejoras significativas en RMSE y es más lento, por lo que no es la mejor elección aquí.\n",
    "* CatBoost es una buena alternativa si se prioriza la velocidad de predicción.\n",
    "* Árbol de decisión no es recomendable debido a su alto RMSE."
   ]
  },
  {
   "cell_type": "markdown",
   "metadata": {},
   "source": [
    "## Referencia "
   ]
  },
  {
   "cell_type": "markdown",
   "metadata": {},
   "source": [
    "Rodríguez, D. (2023, 9 julio). Gráficos de correlación en Seaborn: Mapas de calor y gráficos de pares. Analytics Lane. https://www.analyticslane.com/2023/07/27/graficos-de-correlacion-en-seaborn-mapas-de-calor-y-graficos-de-pares/"
   ]
  }
 ],
 "metadata": {
  "ExecuteTimeLog": [
   {
    "duration": 2621,
    "start_time": "2024-12-04T16:07:16.789Z"
   },
   {
    "duration": 446,
    "start_time": "2024-12-04T16:09:23.361Z"
   },
   {
    "duration": 232,
    "start_time": "2024-12-04T16:10:43.997Z"
   },
   {
    "duration": 147,
    "start_time": "2024-12-04T16:11:03.516Z"
   },
   {
    "duration": 11,
    "start_time": "2024-12-04T16:11:51.863Z"
   },
   {
    "duration": 156,
    "start_time": "2024-12-04T16:12:52.589Z"
   },
   {
    "duration": 4,
    "start_time": "2024-12-04T16:13:27.171Z"
   },
   {
    "duration": 222,
    "start_time": "2024-12-04T16:17:41.096Z"
   },
   {
    "duration": 92,
    "start_time": "2024-12-04T16:19:22.021Z"
   },
   {
    "duration": 6,
    "start_time": "2024-12-04T16:27:38.559Z"
   },
   {
    "duration": 86,
    "start_time": "2024-12-04T16:28:01.434Z"
   },
   {
    "duration": 995,
    "start_time": "2024-12-04T16:28:33.863Z"
   },
   {
    "duration": 412,
    "start_time": "2024-12-04T16:28:34.901Z"
   },
   {
    "duration": 153,
    "start_time": "2024-12-04T16:28:35.856Z"
   },
   {
    "duration": 3,
    "start_time": "2024-12-04T16:28:36.465Z"
   },
   {
    "duration": 11,
    "start_time": "2024-12-04T16:28:37.946Z"
   },
   {
    "duration": 221,
    "start_time": "2024-12-04T16:28:38.850Z"
   },
   {
    "duration": 89,
    "start_time": "2024-12-04T16:28:41.755Z"
   },
   {
    "duration": 225,
    "start_time": "2024-12-04T16:29:17.140Z"
   },
   {
    "duration": 379,
    "start_time": "2024-12-04T16:30:51.231Z"
   },
   {
    "duration": 143,
    "start_time": "2024-12-04T16:32:30.632Z"
   },
   {
    "duration": 3,
    "start_time": "2024-12-04T16:35:22.148Z"
   },
   {
    "duration": 975,
    "start_time": "2024-12-04T16:35:45.961Z"
   },
   {
    "duration": 403,
    "start_time": "2024-12-04T16:35:46.938Z"
   },
   {
    "duration": 152,
    "start_time": "2024-12-04T16:35:47.705Z"
   },
   {
    "duration": 11,
    "start_time": "2024-12-04T16:35:48.165Z"
   },
   {
    "duration": 234,
    "start_time": "2024-12-04T16:35:48.540Z"
   },
   {
    "duration": 138,
    "start_time": "2024-12-04T16:35:48.980Z"
   },
   {
    "duration": 264,
    "start_time": "2024-12-04T16:36:05.686Z"
   },
   {
    "duration": 90,
    "start_time": "2024-12-04T16:36:18.649Z"
   },
   {
    "duration": 117,
    "start_time": "2024-12-04T16:44:02.349Z"
   },
   {
    "duration": 1238,
    "start_time": "2024-12-04T16:44:12.354Z"
   },
   {
    "duration": 456,
    "start_time": "2024-12-04T16:54:31.955Z"
   },
   {
    "duration": 450,
    "start_time": "2024-12-04T17:45:58.299Z"
   },
   {
    "duration": 542,
    "start_time": "2024-12-04T17:46:21.402Z"
   },
   {
    "duration": 28,
    "start_time": "2024-12-04T18:13:45.134Z"
   },
   {
    "duration": 330,
    "start_time": "2024-12-04T18:13:47.275Z"
   },
   {
    "duration": 258,
    "start_time": "2024-12-04T18:24:08.507Z"
   },
   {
    "duration": 12,
    "start_time": "2024-12-04T18:24:18.279Z"
   },
   {
    "duration": 1229,
    "start_time": "2024-12-04T18:24:30.214Z"
   },
   {
    "duration": 500,
    "start_time": "2024-12-04T18:24:36.879Z"
   },
   {
    "duration": 240,
    "start_time": "2024-12-04T18:45:34.637Z"
   },
   {
    "duration": 99,
    "start_time": "2024-12-04T18:46:08.641Z"
   },
   {
    "duration": 1027,
    "start_time": "2024-12-04T18:46:29.455Z"
   },
   {
    "duration": 408,
    "start_time": "2024-12-04T18:46:30.484Z"
   },
   {
    "duration": 146,
    "start_time": "2024-12-04T18:46:31.391Z"
   },
   {
    "duration": 13,
    "start_time": "2024-12-04T18:46:31.856Z"
   },
   {
    "duration": 231,
    "start_time": "2024-12-04T18:46:32.266Z"
   },
   {
    "duration": 288,
    "start_time": "2024-12-04T18:46:32.657Z"
   },
   {
    "duration": 89,
    "start_time": "2024-12-04T18:46:33.062Z"
   },
   {
    "duration": 15,
    "start_time": "2024-12-04T18:46:34.018Z"
   },
   {
    "duration": 1291,
    "start_time": "2024-12-04T18:46:35.291Z"
   },
   {
    "duration": 40,
    "start_time": "2024-12-04T18:46:36.585Z"
   },
   {
    "duration": 464,
    "start_time": "2024-12-04T18:46:37.074Z"
   },
   {
    "duration": 162,
    "start_time": "2024-12-04T18:46:39.481Z"
   },
   {
    "duration": 125,
    "start_time": "2024-12-04T19:11:30.588Z"
   },
   {
    "duration": 1058,
    "start_time": "2024-12-04T19:20:11.433Z"
   },
   {
    "duration": 423,
    "start_time": "2024-12-04T19:20:12.493Z"
   },
   {
    "duration": 146,
    "start_time": "2024-12-04T19:20:13.198Z"
   },
   {
    "duration": 13,
    "start_time": "2024-12-04T19:20:13.631Z"
   },
   {
    "duration": 223,
    "start_time": "2024-12-04T19:20:14.118Z"
   },
   {
    "duration": 276,
    "start_time": "2024-12-04T19:20:14.652Z"
   },
   {
    "duration": 85,
    "start_time": "2024-12-04T19:20:15.379Z"
   },
   {
    "duration": 14,
    "start_time": "2024-12-04T19:20:17.207Z"
   },
   {
    "duration": 1183,
    "start_time": "2024-12-04T19:20:18.690Z"
   },
   {
    "duration": 22,
    "start_time": "2024-12-04T19:20:20.368Z"
   },
   {
    "duration": 436,
    "start_time": "2024-12-04T19:20:21.459Z"
   },
   {
    "duration": 152,
    "start_time": "2024-12-04T19:20:32.733Z"
   },
   {
    "duration": 114,
    "start_time": "2024-12-04T19:20:37.607Z"
   },
   {
    "duration": 575,
    "start_time": "2024-12-04T19:35:25.832Z"
   },
   {
    "duration": 966,
    "start_time": "2024-12-04T19:36:31.567Z"
   },
   {
    "duration": 421,
    "start_time": "2024-12-04T19:36:32.808Z"
   },
   {
    "duration": 193,
    "start_time": "2024-12-04T19:36:39.550Z"
   },
   {
    "duration": 247,
    "start_time": "2024-12-04T19:36:40.913Z"
   },
   {
    "duration": 18,
    "start_time": "2024-12-04T19:36:47.399Z"
   },
   {
    "duration": 247,
    "start_time": "2024-12-04T19:36:55.265Z"
   },
   {
    "duration": 302,
    "start_time": "2024-12-04T19:37:07.881Z"
   },
   {
    "duration": 108,
    "start_time": "2024-12-04T19:37:13.227Z"
   },
   {
    "duration": 14,
    "start_time": "2024-12-04T19:37:29.961Z"
   },
   {
    "duration": 1312,
    "start_time": "2024-12-04T19:37:36.667Z"
   },
   {
    "duration": 22,
    "start_time": "2024-12-04T19:37:47.950Z"
   },
   {
    "duration": 442,
    "start_time": "2024-12-04T19:37:56.698Z"
   },
   {
    "duration": 17,
    "start_time": "2024-12-04T19:38:03.364Z"
   },
   {
    "duration": 147,
    "start_time": "2024-12-04T19:38:09.166Z"
   },
   {
    "duration": 112,
    "start_time": "2024-12-04T19:38:33.006Z"
   },
   {
    "duration": 5,
    "start_time": "2024-12-04T21:21:02.259Z"
   },
   {
    "duration": 506,
    "start_time": "2024-12-04T21:21:02.265Z"
   },
   {
    "duration": 167,
    "start_time": "2024-12-04T21:21:02.774Z"
   },
   {
    "duration": 11,
    "start_time": "2024-12-04T21:21:02.943Z"
   },
   {
    "duration": 292,
    "start_time": "2024-12-04T21:21:02.956Z"
   },
   {
    "duration": 309,
    "start_time": "2024-12-04T21:21:03.250Z"
   },
   {
    "duration": 111,
    "start_time": "2024-12-04T21:21:03.560Z"
   },
   {
    "duration": 23,
    "start_time": "2024-12-04T21:21:03.672Z"
   },
   {
    "duration": 1431,
    "start_time": "2024-12-04T21:21:03.697Z"
   },
   {
    "duration": 22,
    "start_time": "2024-12-04T21:21:05.130Z"
   },
   {
    "duration": 557,
    "start_time": "2024-12-04T21:21:05.155Z"
   },
   {
    "duration": 154,
    "start_time": "2024-12-04T21:21:05.714Z"
   },
   {
    "duration": 156,
    "start_time": "2024-12-04T21:21:06.823Z"
   },
   {
    "duration": 8,
    "start_time": "2024-12-04T21:28:39.746Z"
   },
   {
    "duration": 4,
    "start_time": "2024-12-04T21:29:04.619Z"
   },
   {
    "duration": 6,
    "start_time": "2024-12-04T21:29:26.380Z"
   },
   {
    "duration": 5,
    "start_time": "2024-12-04T21:32:04.605Z"
   },
   {
    "duration": 6,
    "start_time": "2024-12-04T21:35:02.012Z"
   },
   {
    "duration": 599,
    "start_time": "2024-12-04T21:36:09.244Z"
   },
   {
    "duration": 489,
    "start_time": "2024-12-04T21:44:31.498Z"
   },
   {
    "duration": 2788,
    "start_time": "2024-12-04T22:44:54.855Z"
   },
   {
    "duration": 460,
    "start_time": "2024-12-04T22:44:57.646Z"
   },
   {
    "duration": 172,
    "start_time": "2024-12-04T22:44:58.109Z"
   },
   {
    "duration": 10,
    "start_time": "2024-12-04T22:44:58.284Z"
   },
   {
    "duration": 222,
    "start_time": "2024-12-04T22:44:58.309Z"
   },
   {
    "duration": 266,
    "start_time": "2024-12-04T22:44:58.533Z"
   },
   {
    "duration": 94,
    "start_time": "2024-12-04T22:44:58.801Z"
   },
   {
    "duration": 23,
    "start_time": "2024-12-04T22:44:58.897Z"
   },
   {
    "duration": 1234,
    "start_time": "2024-12-04T22:44:58.922Z"
   },
   {
    "duration": 23,
    "start_time": "2024-12-04T22:45:00.158Z"
   },
   {
    "duration": 469,
    "start_time": "2024-12-04T22:45:00.184Z"
   },
   {
    "duration": 146,
    "start_time": "2024-12-04T22:45:00.656Z"
   },
   {
    "duration": 113,
    "start_time": "2024-12-04T22:45:00.804Z"
   },
   {
    "duration": 534,
    "start_time": "2024-12-04T22:45:01.530Z"
   },
   {
    "duration": 2764,
    "start_time": "2024-12-05T17:10:24.091Z"
   },
   {
    "duration": 478,
    "start_time": "2024-12-05T17:10:26.857Z"
   },
   {
    "duration": 149,
    "start_time": "2024-12-05T17:10:28.338Z"
   },
   {
    "duration": 11,
    "start_time": "2024-12-05T17:10:31.689Z"
   },
   {
    "duration": 18,
    "start_time": "2024-12-05T17:13:28.196Z"
   },
   {
    "duration": 286,
    "start_time": "2024-12-05T17:15:17.869Z"
   },
   {
    "duration": 5,
    "start_time": "2024-12-05T17:15:37.814Z"
   },
   {
    "duration": 28,
    "start_time": "2024-12-05T17:15:43.971Z"
   },
   {
    "duration": 88,
    "start_time": "2024-12-05T17:16:27.457Z"
   },
   {
    "duration": 1151,
    "start_time": "2024-12-05T17:17:19.775Z"
   },
   {
    "duration": 508,
    "start_time": "2024-12-05T17:17:20.930Z"
   },
   {
    "duration": 178,
    "start_time": "2024-12-05T17:17:21.511Z"
   },
   {
    "duration": 11,
    "start_time": "2024-12-05T17:17:21.732Z"
   },
   {
    "duration": 16,
    "start_time": "2024-12-05T17:17:22.019Z"
   },
   {
    "duration": 27,
    "start_time": "2024-12-05T17:17:22.179Z"
   },
   {
    "duration": 74,
    "start_time": "2024-12-05T17:17:22.598Z"
   },
   {
    "duration": 129,
    "start_time": "2024-12-05T17:17:23.122Z"
   },
   {
    "duration": 123,
    "start_time": "2024-12-05T17:17:23.568Z"
   },
   {
    "duration": 67,
    "start_time": "2024-12-05T17:17:24.209Z"
   },
   {
    "duration": 1090,
    "start_time": "2024-12-05T17:17:38.359Z"
   },
   {
    "duration": 472,
    "start_time": "2024-12-05T17:17:39.610Z"
   },
   {
    "duration": 178,
    "start_time": "2024-12-05T17:17:40.811Z"
   },
   {
    "duration": 11,
    "start_time": "2024-12-05T17:17:42.087Z"
   },
   {
    "duration": 17,
    "start_time": "2024-12-05T17:17:44.820Z"
   },
   {
    "duration": 29,
    "start_time": "2024-12-05T17:17:45.169Z"
   },
   {
    "duration": 69,
    "start_time": "2024-12-05T17:17:45.919Z"
   },
   {
    "duration": 222,
    "start_time": "2024-12-05T17:18:08.546Z"
   },
   {
    "duration": 107,
    "start_time": "2024-12-05T17:18:16.618Z"
   },
   {
    "duration": 53,
    "start_time": "2024-12-05T17:19:18.094Z"
   },
   {
    "duration": 63,
    "start_time": "2024-12-05T17:20:24.807Z"
   },
   {
    "duration": 54,
    "start_time": "2024-12-05T17:21:05.241Z"
   },
   {
    "duration": 102,
    "start_time": "2024-12-05T17:21:15.522Z"
   },
   {
    "duration": 1060,
    "start_time": "2024-12-05T17:22:56.774Z"
   },
   {
    "duration": 412,
    "start_time": "2024-12-05T17:22:57.944Z"
   },
   {
    "duration": 150,
    "start_time": "2024-12-05T17:22:59.570Z"
   },
   {
    "duration": 12,
    "start_time": "2024-12-05T17:23:00.244Z"
   },
   {
    "duration": 14,
    "start_time": "2024-12-05T17:23:01.640Z"
   },
   {
    "duration": 27,
    "start_time": "2024-12-05T17:23:02.499Z"
   },
   {
    "duration": 4,
    "start_time": "2024-12-05T17:23:04.076Z"
   },
   {
    "duration": 104,
    "start_time": "2024-12-05T17:23:05.766Z"
   },
   {
    "duration": 160,
    "start_time": "2024-12-05T17:23:52.245Z"
   },
   {
    "duration": 995,
    "start_time": "2024-12-05T17:23:56.422Z"
   },
   {
    "duration": 414,
    "start_time": "2024-12-05T17:23:58.146Z"
   },
   {
    "duration": 174,
    "start_time": "2024-12-05T17:23:59.317Z"
   },
   {
    "duration": 1007,
    "start_time": "2024-12-05T17:24:04.634Z"
   },
   {
    "duration": 422,
    "start_time": "2024-12-05T17:24:05.642Z"
   },
   {
    "duration": 150,
    "start_time": "2024-12-05T17:24:06.990Z"
   },
   {
    "duration": 12,
    "start_time": "2024-12-05T17:24:08.256Z"
   },
   {
    "duration": 15,
    "start_time": "2024-12-05T17:24:10.705Z"
   },
   {
    "duration": 1000,
    "start_time": "2024-12-05T17:24:28.145Z"
   },
   {
    "duration": 438,
    "start_time": "2024-12-05T17:24:29.147Z"
   },
   {
    "duration": 158,
    "start_time": "2024-12-05T17:24:29.850Z"
   },
   {
    "duration": 11,
    "start_time": "2024-12-05T17:24:30.402Z"
   },
   {
    "duration": 17,
    "start_time": "2024-12-05T17:24:31.404Z"
   },
   {
    "duration": 28,
    "start_time": "2024-12-05T17:24:54.051Z"
   },
   {
    "duration": 94,
    "start_time": "2024-12-05T17:25:04.933Z"
   },
   {
    "duration": 1029,
    "start_time": "2024-12-05T17:25:54.924Z"
   },
   {
    "duration": 414,
    "start_time": "2024-12-05T17:25:55.955Z"
   },
   {
    "duration": 190,
    "start_time": "2024-12-05T17:25:56.503Z"
   },
   {
    "duration": 11,
    "start_time": "2024-12-05T17:25:57.018Z"
   },
   {
    "duration": 16,
    "start_time": "2024-12-05T17:25:58.106Z"
   },
   {
    "duration": 28,
    "start_time": "2024-12-05T17:25:59.035Z"
   },
   {
    "duration": 26,
    "start_time": "2024-12-05T17:26:00.026Z"
   },
   {
    "duration": 101,
    "start_time": "2024-12-05T17:26:02.457Z"
   },
   {
    "duration": 1020,
    "start_time": "2024-12-05T17:26:25.084Z"
   },
   {
    "duration": 416,
    "start_time": "2024-12-05T17:26:26.313Z"
   },
   {
    "duration": 149,
    "start_time": "2024-12-05T17:26:27.461Z"
   },
   {
    "duration": 11,
    "start_time": "2024-12-05T17:26:28.763Z"
   },
   {
    "duration": 15,
    "start_time": "2024-12-05T17:26:29.803Z"
   },
   {
    "duration": 26,
    "start_time": "2024-12-05T17:26:30.683Z"
   },
   {
    "duration": 3,
    "start_time": "2024-12-05T17:26:36.023Z"
   },
   {
    "duration": 101,
    "start_time": "2024-12-05T17:26:37.689Z"
   },
   {
    "duration": 95,
    "start_time": "2024-12-05T17:26:43.835Z"
   },
   {
    "duration": 88,
    "start_time": "2024-12-05T17:27:32.515Z"
   },
   {
    "duration": 88,
    "start_time": "2024-12-05T17:27:33.344Z"
   },
   {
    "duration": 93,
    "start_time": "2024-12-05T17:28:03.656Z"
   },
   {
    "duration": 129,
    "start_time": "2024-12-05T17:28:05.960Z"
   },
   {
    "duration": 87,
    "start_time": "2024-12-05T17:28:06.940Z"
   },
   {
    "duration": 1006,
    "start_time": "2024-12-05T17:28:13.310Z"
   },
   {
    "duration": 419,
    "start_time": "2024-12-05T17:28:14.319Z"
   },
   {
    "duration": 150,
    "start_time": "2024-12-05T17:28:14.818Z"
   },
   {
    "duration": 13,
    "start_time": "2024-12-05T17:28:15.230Z"
   },
   {
    "duration": 17,
    "start_time": "2024-12-05T17:28:15.644Z"
   },
   {
    "duration": 26,
    "start_time": "2024-12-05T17:28:16.141Z"
   },
   {
    "duration": 4,
    "start_time": "2024-12-05T17:28:16.562Z"
   },
   {
    "duration": 104,
    "start_time": "2024-12-05T17:28:17.100Z"
   },
   {
    "duration": 88,
    "start_time": "2024-12-05T17:28:17.601Z"
   },
   {
    "duration": 87,
    "start_time": "2024-12-05T17:28:19.120Z"
   },
   {
    "duration": 86,
    "start_time": "2024-12-05T17:28:21.694Z"
   },
   {
    "duration": 1082,
    "start_time": "2024-12-05T17:29:43.200Z"
   },
   {
    "duration": 485,
    "start_time": "2024-12-05T17:29:44.284Z"
   },
   {
    "duration": 166,
    "start_time": "2024-12-05T17:29:45.972Z"
   },
   {
    "duration": 15,
    "start_time": "2024-12-05T17:29:47.037Z"
   },
   {
    "duration": 17,
    "start_time": "2024-12-05T17:29:48.332Z"
   },
   {
    "duration": 26,
    "start_time": "2024-12-05T17:29:49.416Z"
   },
   {
    "duration": 7,
    "start_time": "2024-12-05T17:29:50.646Z"
   },
   {
    "duration": 122,
    "start_time": "2024-12-05T17:29:51.668Z"
   },
   {
    "duration": 72,
    "start_time": "2024-12-05T17:29:54.733Z"
   },
   {
    "duration": 58,
    "start_time": "2024-12-05T17:29:58.593Z"
   },
   {
    "duration": 69,
    "start_time": "2024-12-05T17:29:59.618Z"
   },
   {
    "duration": 149,
    "start_time": "2024-12-05T17:30:24.355Z"
   },
   {
    "duration": 1403,
    "start_time": "2024-12-05T17:31:08.736Z"
   },
   {
    "duration": 1216,
    "start_time": "2024-12-05T17:31:20.484Z"
   },
   {
    "duration": 2814,
    "start_time": "2024-12-05T18:12:48.721Z"
   },
   {
    "duration": 456,
    "start_time": "2024-12-05T18:12:51.538Z"
   },
   {
    "duration": 164,
    "start_time": "2024-12-05T18:12:51.997Z"
   },
   {
    "duration": 11,
    "start_time": "2024-12-05T18:12:52.163Z"
   },
   {
    "duration": 17,
    "start_time": "2024-12-05T18:12:53.230Z"
   },
   {
    "duration": 27,
    "start_time": "2024-12-05T18:12:55.891Z"
   },
   {
    "duration": 4,
    "start_time": "2024-12-05T18:12:59.793Z"
   },
   {
    "duration": 106,
    "start_time": "2024-12-05T18:13:00.971Z"
   },
   {
    "duration": 53,
    "start_time": "2024-12-05T18:13:06.852Z"
   },
   {
    "duration": 58,
    "start_time": "2024-12-05T18:13:09.761Z"
   },
   {
    "duration": 52,
    "start_time": "2024-12-05T18:13:11.484Z"
   },
   {
    "duration": 123,
    "start_time": "2024-12-05T18:13:13.951Z"
   },
   {
    "duration": 1081,
    "start_time": "2024-12-05T18:13:17.016Z"
   },
   {
    "duration": 568,
    "start_time": "2024-12-05T18:13:37.840Z"
   },
   {
    "duration": 455,
    "start_time": "2024-12-05T18:13:47.115Z"
   },
   {
    "duration": 4,
    "start_time": "2024-12-05T18:15:30.997Z"
   },
   {
    "duration": 4,
    "start_time": "2024-12-05T18:18:02.433Z"
   },
   {
    "duration": 165,
    "start_time": "2024-12-05T18:19:04.417Z"
   },
   {
    "duration": 603,
    "start_time": "2024-12-05T18:19:15.159Z"
   },
   {
    "duration": 12,
    "start_time": "2024-12-05T18:20:32.097Z"
   },
   {
    "duration": 8,
    "start_time": "2024-12-05T18:20:44.864Z"
   },
   {
    "duration": 86,
    "start_time": "2024-12-05T18:21:17.421Z"
   },
   {
    "duration": 13,
    "start_time": "2024-12-05T18:21:34.049Z"
   },
   {
    "duration": 3196,
    "start_time": "2024-12-05T19:03:45.128Z"
   },
   {
    "duration": 0,
    "start_time": "2024-12-05T19:03:48.326Z"
   },
   {
    "duration": 15,
    "start_time": "2024-12-05T19:03:49.083Z"
   },
   {
    "duration": 13,
    "start_time": "2024-12-05T19:03:49.774Z"
   },
   {
    "duration": 1278,
    "start_time": "2024-12-05T19:04:38.649Z"
   },
   {
    "duration": 1062,
    "start_time": "2024-12-05T19:04:56.497Z"
   },
   {
    "duration": 461,
    "start_time": "2024-12-05T19:04:58.792Z"
   },
   {
    "duration": 152,
    "start_time": "2024-12-05T19:05:01.775Z"
   },
   {
    "duration": 12,
    "start_time": "2024-12-05T19:05:02.587Z"
   },
   {
    "duration": 15,
    "start_time": "2024-12-05T19:05:03.227Z"
   },
   {
    "duration": 27,
    "start_time": "2024-12-05T19:05:03.931Z"
   },
   {
    "duration": 4,
    "start_time": "2024-12-05T19:05:05.410Z"
   },
   {
    "duration": 109,
    "start_time": "2024-12-05T19:05:06.101Z"
   },
   {
    "duration": 55,
    "start_time": "2024-12-05T19:05:07.793Z"
   },
   {
    "duration": 59,
    "start_time": "2024-12-05T19:05:09.148Z"
   },
   {
    "duration": 54,
    "start_time": "2024-12-05T19:05:10.798Z"
   },
   {
    "duration": 118,
    "start_time": "2024-12-05T19:05:12.029Z"
   },
   {
    "duration": 1063,
    "start_time": "2024-12-05T19:06:42.553Z"
   },
   {
    "duration": 438,
    "start_time": "2024-12-05T19:06:55.867Z"
   },
   {
    "duration": 4,
    "start_time": "2024-12-05T19:07:13.310Z"
   },
   {
    "duration": 611,
    "start_time": "2024-12-05T19:07:14.069Z"
   },
   {
    "duration": 8,
    "start_time": "2024-12-05T19:07:21.260Z"
   },
   {
    "duration": 85,
    "start_time": "2024-12-05T19:07:21.597Z"
   },
   {
    "duration": 13,
    "start_time": "2024-12-05T19:07:22.399Z"
   },
   {
    "duration": 176,
    "start_time": "2024-12-05T19:08:59.888Z"
   },
   {
    "duration": 18,
    "start_time": "2024-12-05T19:09:15.002Z"
   },
   {
    "duration": 79,
    "start_time": "2024-12-05T19:10:23.348Z"
   },
   {
    "duration": 40,
    "start_time": "2024-12-05T19:10:34.088Z"
   },
   {
    "duration": 5,
    "start_time": "2024-12-05T19:11:12.236Z"
   },
   {
    "duration": 59,
    "start_time": "2024-12-05T19:12:39.953Z"
   },
   {
    "duration": 46,
    "start_time": "2024-12-05T19:13:35.547Z"
   },
   {
    "duration": 5,
    "start_time": "2024-12-05T19:15:38.772Z"
   },
   {
    "duration": 3,
    "start_time": "2024-12-05T19:15:49.899Z"
   },
   {
    "duration": 12,
    "start_time": "2024-12-05T19:17:56.644Z"
   },
   {
    "duration": 23,
    "start_time": "2024-12-05T19:26:07.054Z"
   },
   {
    "duration": 243,
    "start_time": "2024-12-05T19:26:41.004Z"
   },
   {
    "duration": 3,
    "start_time": "2024-12-05T19:26:50.322Z"
   },
   {
    "duration": 2,
    "start_time": "2024-12-05T19:26:51.503Z"
   },
   {
    "duration": 2622,
    "start_time": "2024-12-05T19:26:52.109Z"
   },
   {
    "duration": 160,
    "start_time": "2024-12-05T19:32:38.062Z"
   },
   {
    "duration": 168,
    "start_time": "2024-12-05T19:32:45.249Z"
   },
   {
    "duration": 2934,
    "start_time": "2024-12-06T18:00:23.544Z"
   },
   {
    "duration": 506,
    "start_time": "2024-12-06T18:00:26.481Z"
   },
   {
    "duration": 158,
    "start_time": "2024-12-06T18:00:26.989Z"
   },
   {
    "duration": 12,
    "start_time": "2024-12-06T18:00:27.148Z"
   },
   {
    "duration": 16,
    "start_time": "2024-12-06T18:00:27.162Z"
   },
   {
    "duration": 25,
    "start_time": "2024-12-06T18:00:27.180Z"
   },
   {
    "duration": 4,
    "start_time": "2024-12-06T18:00:27.206Z"
   },
   {
    "duration": 131,
    "start_time": "2024-12-06T18:00:27.212Z"
   },
   {
    "duration": 53,
    "start_time": "2024-12-06T18:00:27.345Z"
   },
   {
    "duration": 62,
    "start_time": "2024-12-06T18:00:27.399Z"
   },
   {
    "duration": 54,
    "start_time": "2024-12-06T18:00:27.463Z"
   },
   {
    "duration": 129,
    "start_time": "2024-12-06T18:00:27.531Z"
   },
   {
    "duration": 1322,
    "start_time": "2024-12-06T18:00:27.662Z"
   },
   {
    "duration": 492,
    "start_time": "2024-12-06T18:00:28.988Z"
   },
   {
    "duration": 5,
    "start_time": "2024-12-06T18:00:29.482Z"
   },
   {
    "duration": 603,
    "start_time": "2024-12-06T18:00:29.488Z"
   },
   {
    "duration": 8,
    "start_time": "2024-12-06T18:00:30.092Z"
   },
   {
    "duration": 97,
    "start_time": "2024-12-06T18:00:30.102Z"
   },
   {
    "duration": 13,
    "start_time": "2024-12-06T18:00:30.201Z"
   },
   {
    "duration": 179,
    "start_time": "2024-12-06T18:00:30.216Z"
   },
   {
    "duration": 20,
    "start_time": "2024-12-06T18:00:30.397Z"
   },
   {
    "duration": 102,
    "start_time": "2024-12-06T18:00:30.419Z"
   },
   {
    "duration": 38,
    "start_time": "2024-12-06T18:00:30.530Z"
   },
   {
    "duration": 68,
    "start_time": "2024-12-06T18:00:30.570Z"
   },
   {
    "duration": 42,
    "start_time": "2024-12-06T18:00:30.641Z"
   },
   {
    "duration": 2,
    "start_time": "2024-12-06T18:00:30.685Z"
   },
   {
    "duration": 11,
    "start_time": "2024-12-06T18:00:30.689Z"
   },
   {
    "duration": 2,
    "start_time": "2024-12-06T18:00:30.703Z"
   },
   {
    "duration": 202,
    "start_time": "2024-12-06T18:00:30.731Z"
   },
   {
    "duration": 100,
    "start_time": "2024-12-06T18:00:30.935Z"
   },
   {
    "duration": 3313,
    "start_time": "2024-12-06T18:00:31.038Z"
   },
   {
    "duration": 2749,
    "start_time": "2024-12-08T14:41:23.960Z"
   },
   {
    "duration": 488,
    "start_time": "2024-12-08T14:41:26.711Z"
   },
   {
    "duration": 158,
    "start_time": "2024-12-08T14:41:27.201Z"
   },
   {
    "duration": 11,
    "start_time": "2024-12-08T14:41:27.362Z"
   },
   {
    "duration": 15,
    "start_time": "2024-12-08T14:41:27.374Z"
   },
   {
    "duration": 47,
    "start_time": "2024-12-08T14:41:27.392Z"
   },
   {
    "duration": 3,
    "start_time": "2024-12-08T14:41:27.441Z"
   },
   {
    "duration": 119,
    "start_time": "2024-12-08T14:41:27.446Z"
   },
   {
    "duration": 60,
    "start_time": "2024-12-08T14:41:27.567Z"
   },
   {
    "duration": 56,
    "start_time": "2024-12-08T14:41:27.630Z"
   },
   {
    "duration": 69,
    "start_time": "2024-12-08T14:41:27.688Z"
   },
   {
    "duration": 141,
    "start_time": "2024-12-08T14:41:27.759Z"
   },
   {
    "duration": 1185,
    "start_time": "2024-12-08T14:41:28.106Z"
   },
   {
    "duration": 474,
    "start_time": "2024-12-08T14:41:29.294Z"
   },
   {
    "duration": 4,
    "start_time": "2024-12-08T14:41:30.418Z"
   },
   {
    "duration": 710,
    "start_time": "2024-12-08T14:41:31.064Z"
   },
   {
    "duration": 13,
    "start_time": "2024-12-08T14:41:31.776Z"
   },
   {
    "duration": 86,
    "start_time": "2024-12-08T14:41:32.705Z"
   },
   {
    "duration": 14,
    "start_time": "2024-12-08T14:41:33.686Z"
   },
   {
    "duration": 170,
    "start_time": "2024-12-08T14:41:34.254Z"
   },
   {
    "duration": 16,
    "start_time": "2024-12-08T14:41:35.142Z"
   },
   {
    "duration": 81,
    "start_time": "2024-12-08T14:41:38.217Z"
   },
   {
    "duration": 40,
    "start_time": "2024-12-08T14:41:38.766Z"
   },
   {
    "duration": 95,
    "start_time": "2024-12-08T14:41:41.662Z"
   },
   {
    "duration": 3,
    "start_time": "2024-12-08T14:43:44.293Z"
   },
   {
    "duration": 2,
    "start_time": "2024-12-08T14:44:02.580Z"
   },
   {
    "duration": 12,
    "start_time": "2024-12-08T14:44:04.035Z"
   },
   {
    "duration": 3,
    "start_time": "2024-12-08T14:44:06.977Z"
   },
   {
    "duration": 1021,
    "start_time": "2024-12-08T14:51:50.487Z"
   },
   {
    "duration": 433,
    "start_time": "2024-12-08T14:51:51.525Z"
   },
   {
    "duration": 157,
    "start_time": "2024-12-08T14:51:55.680Z"
   },
   {
    "duration": 11,
    "start_time": "2024-12-08T14:51:56.554Z"
   },
   {
    "duration": 18,
    "start_time": "2024-12-08T14:51:57.981Z"
   },
   {
    "duration": 1051,
    "start_time": "2024-12-08T14:56:54.161Z"
   },
   {
    "duration": 415,
    "start_time": "2024-12-08T14:56:55.214Z"
   },
   {
    "duration": 159,
    "start_time": "2024-12-08T14:56:56.031Z"
   },
   {
    "duration": 11,
    "start_time": "2024-12-08T14:56:56.834Z"
   },
   {
    "duration": 19,
    "start_time": "2024-12-08T14:56:57.720Z"
   },
   {
    "duration": 4,
    "start_time": "2024-12-08T14:57:25.156Z"
   },
   {
    "duration": 14,
    "start_time": "2024-12-08T14:57:51.244Z"
   },
   {
    "duration": 1015,
    "start_time": "2024-12-08T14:58:09.188Z"
   },
   {
    "duration": 416,
    "start_time": "2024-12-08T14:58:10.205Z"
   },
   {
    "duration": 156,
    "start_time": "2024-12-08T14:58:11.869Z"
   },
   {
    "duration": 12,
    "start_time": "2024-12-08T14:58:12.646Z"
   },
   {
    "duration": 18,
    "start_time": "2024-12-08T14:58:13.209Z"
   },
   {
    "duration": 30,
    "start_time": "2024-12-08T14:58:13.954Z"
   },
   {
    "duration": 12,
    "start_time": "2024-12-08T14:58:14.908Z"
   },
   {
    "duration": 4,
    "start_time": "2024-12-08T14:58:24.021Z"
   },
   {
    "duration": 3,
    "start_time": "2024-12-08T14:59:13.650Z"
   },
   {
    "duration": 125,
    "start_time": "2024-12-08T14:59:14.211Z"
   },
   {
    "duration": 60,
    "start_time": "2024-12-08T14:59:18.654Z"
   },
   {
    "duration": 60,
    "start_time": "2024-12-08T14:59:20.514Z"
   },
   {
    "duration": 60,
    "start_time": "2024-12-08T14:59:22.422Z"
   },
   {
    "duration": 137,
    "start_time": "2024-12-08T14:59:26.774Z"
   },
   {
    "duration": 1071,
    "start_time": "2024-12-08T14:59:35.762Z"
   },
   {
    "duration": 546,
    "start_time": "2024-12-08T14:59:41.794Z"
   },
   {
    "duration": 1023,
    "start_time": "2024-12-08T15:00:31.887Z"
   },
   {
    "duration": 414,
    "start_time": "2024-12-08T15:00:32.912Z"
   },
   {
    "duration": 148,
    "start_time": "2024-12-08T15:00:34.256Z"
   },
   {
    "duration": 11,
    "start_time": "2024-12-08T15:00:35.136Z"
   },
   {
    "duration": 17,
    "start_time": "2024-12-08T15:00:36.100Z"
   },
   {
    "duration": 29,
    "start_time": "2024-12-08T15:00:36.770Z"
   },
   {
    "duration": 13,
    "start_time": "2024-12-08T15:00:38.070Z"
   },
   {
    "duration": 4,
    "start_time": "2024-12-08T15:00:45.159Z"
   },
   {
    "duration": 116,
    "start_time": "2024-12-08T15:00:45.773Z"
   },
   {
    "duration": 65,
    "start_time": "2024-12-08T15:00:50.194Z"
   },
   {
    "duration": 62,
    "start_time": "2024-12-08T15:00:51.380Z"
   },
   {
    "duration": 64,
    "start_time": "2024-12-08T15:00:51.472Z"
   },
   {
    "duration": 152,
    "start_time": "2024-12-08T15:00:51.863Z"
   },
   {
    "duration": 1080,
    "start_time": "2024-12-08T15:00:52.649Z"
   },
   {
    "duration": 413,
    "start_time": "2024-12-08T15:00:54.067Z"
   },
   {
    "duration": 22,
    "start_time": "2024-12-08T15:06:14.787Z"
   },
   {
    "duration": 1048,
    "start_time": "2024-12-08T15:06:26.663Z"
   },
   {
    "duration": 413,
    "start_time": "2024-12-08T15:06:27.731Z"
   },
   {
    "duration": 147,
    "start_time": "2024-12-08T15:06:30.244Z"
   },
   {
    "duration": 12,
    "start_time": "2024-12-08T15:06:31.299Z"
   },
   {
    "duration": 938,
    "start_time": "2024-12-08T15:06:36.354Z"
   },
   {
    "duration": 16,
    "start_time": "2024-12-08T15:06:51.010Z"
   },
   {
    "duration": 29,
    "start_time": "2024-12-08T15:06:52.584Z"
   },
   {
    "duration": 14,
    "start_time": "2024-12-08T15:07:21.680Z"
   },
   {
    "duration": 993,
    "start_time": "2024-12-08T15:09:36.118Z"
   },
   {
    "duration": 424,
    "start_time": "2024-12-08T15:09:37.113Z"
   },
   {
    "duration": 157,
    "start_time": "2024-12-08T15:09:38.533Z"
   },
   {
    "duration": 11,
    "start_time": "2024-12-08T15:09:39.122Z"
   },
   {
    "duration": 17,
    "start_time": "2024-12-08T15:09:39.978Z"
   },
   {
    "duration": 2,
    "start_time": "2024-12-08T15:09:40.563Z"
   },
   {
    "duration": 29,
    "start_time": "2024-12-08T15:09:41.304Z"
   },
   {
    "duration": 1042,
    "start_time": "2024-12-08T15:09:52.502Z"
   },
   {
    "duration": 429,
    "start_time": "2024-12-08T15:09:53.546Z"
   },
   {
    "duration": 165,
    "start_time": "2024-12-08T15:09:54.134Z"
   },
   {
    "duration": 12,
    "start_time": "2024-12-08T15:09:54.585Z"
   },
   {
    "duration": 17,
    "start_time": "2024-12-08T15:09:55.236Z"
   },
   {
    "duration": 31,
    "start_time": "2024-12-08T15:09:55.759Z"
   },
   {
    "duration": 13,
    "start_time": "2024-12-08T15:09:56.307Z"
   },
   {
    "duration": 19,
    "start_time": "2024-12-08T15:09:56.965Z"
   },
   {
    "duration": 12,
    "start_time": "2024-12-08T15:09:57.911Z"
   },
   {
    "duration": 4,
    "start_time": "2024-12-08T15:09:59.011Z"
   },
   {
    "duration": 102,
    "start_time": "2024-12-08T15:09:59.612Z"
   },
   {
    "duration": 54,
    "start_time": "2024-12-08T15:10:00.103Z"
   },
   {
    "duration": 54,
    "start_time": "2024-12-08T15:10:00.882Z"
   },
   {
    "duration": 54,
    "start_time": "2024-12-08T15:10:01.742Z"
   },
   {
    "duration": 127,
    "start_time": "2024-12-08T15:10:02.521Z"
   },
   {
    "duration": 1134,
    "start_time": "2024-12-08T15:10:04.424Z"
   },
   {
    "duration": 452,
    "start_time": "2024-12-08T15:10:09.132Z"
   },
   {
    "duration": 5,
    "start_time": "2024-12-08T15:12:10.506Z"
   },
   {
    "duration": 603,
    "start_time": "2024-12-08T15:12:11.107Z"
   },
   {
    "duration": 8,
    "start_time": "2024-12-08T15:12:12.451Z"
   },
   {
    "duration": 79,
    "start_time": "2024-12-08T15:12:13.308Z"
   },
   {
    "duration": 13,
    "start_time": "2024-12-08T15:12:13.844Z"
   },
   {
    "duration": 170,
    "start_time": "2024-12-08T15:12:14.474Z"
   },
   {
    "duration": 17,
    "start_time": "2024-12-08T15:12:15.446Z"
   },
   {
    "duration": 76,
    "start_time": "2024-12-08T15:12:16.145Z"
   },
   {
    "duration": 5,
    "start_time": "2024-12-08T15:15:32.190Z"
   },
   {
    "duration": 1074,
    "start_time": "2024-12-08T15:16:05.032Z"
   },
   {
    "duration": 431,
    "start_time": "2024-12-08T15:16:06.112Z"
   },
   {
    "duration": 161,
    "start_time": "2024-12-08T15:16:06.765Z"
   },
   {
    "duration": 13,
    "start_time": "2024-12-08T15:16:07.172Z"
   },
   {
    "duration": 17,
    "start_time": "2024-12-08T15:16:07.370Z"
   },
   {
    "duration": 33,
    "start_time": "2024-12-08T15:16:07.906Z"
   },
   {
    "duration": 13,
    "start_time": "2024-12-08T15:16:08.477Z"
   },
   {
    "duration": 19,
    "start_time": "2024-12-08T15:16:08.650Z"
   },
   {
    "duration": 13,
    "start_time": "2024-12-08T15:16:09.212Z"
   },
   {
    "duration": 4,
    "start_time": "2024-12-08T15:16:10.469Z"
   },
   {
    "duration": 103,
    "start_time": "2024-12-08T15:16:10.746Z"
   },
   {
    "duration": 59,
    "start_time": "2024-12-08T15:16:11.129Z"
   },
   {
    "duration": 57,
    "start_time": "2024-12-08T15:16:11.906Z"
   },
   {
    "duration": 53,
    "start_time": "2024-12-08T15:16:12.741Z"
   },
   {
    "duration": 121,
    "start_time": "2024-12-08T15:16:13.678Z"
   },
   {
    "duration": 1113,
    "start_time": "2024-12-08T15:16:15.026Z"
   },
   {
    "duration": 443,
    "start_time": "2024-12-08T15:16:16.141Z"
   },
   {
    "duration": 5,
    "start_time": "2024-12-08T15:16:19.091Z"
   },
   {
    "duration": 609,
    "start_time": "2024-12-08T15:16:19.841Z"
   },
   {
    "duration": 9,
    "start_time": "2024-12-08T15:16:20.670Z"
   },
   {
    "duration": 85,
    "start_time": "2024-12-08T15:16:22.188Z"
   },
   {
    "duration": 13,
    "start_time": "2024-12-08T15:16:22.621Z"
   },
   {
    "duration": 167,
    "start_time": "2024-12-08T15:16:24.415Z"
   },
   {
    "duration": 16,
    "start_time": "2024-12-08T15:16:25.322Z"
   },
   {
    "duration": 76,
    "start_time": "2024-12-08T15:16:28.652Z"
   },
   {
    "duration": 40,
    "start_time": "2024-12-08T15:16:29.119Z"
   },
   {
    "duration": 4,
    "start_time": "2024-12-08T15:16:33.952Z"
   },
   {
    "duration": 230,
    "start_time": "2024-12-08T15:22:29.942Z"
   },
   {
    "duration": 156,
    "start_time": "2024-12-08T15:22:45.577Z"
   },
   {
    "duration": 169,
    "start_time": "2024-12-08T15:23:07.691Z"
   },
   {
    "duration": 15,
    "start_time": "2024-12-08T15:23:40.850Z"
   },
   {
    "duration": 96,
    "start_time": "2024-12-08T15:23:46.342Z"
   },
   {
    "duration": 4,
    "start_time": "2024-12-08T15:23:46.849Z"
   },
   {
    "duration": 6,
    "start_time": "2024-12-08T15:29:32.293Z"
   },
   {
    "duration": 160,
    "start_time": "2024-12-08T15:29:33.550Z"
   },
   {
    "duration": 1063,
    "start_time": "2024-12-08T15:31:02.039Z"
   },
   {
    "duration": 427,
    "start_time": "2024-12-08T15:31:03.104Z"
   },
   {
    "duration": 162,
    "start_time": "2024-12-08T15:31:03.533Z"
   },
   {
    "duration": 11,
    "start_time": "2024-12-08T15:31:04.048Z"
   },
   {
    "duration": 16,
    "start_time": "2024-12-08T15:31:04.355Z"
   },
   {
    "duration": 29,
    "start_time": "2024-12-08T15:31:04.373Z"
   },
   {
    "duration": 13,
    "start_time": "2024-12-08T15:31:05.088Z"
   },
   {
    "duration": 18,
    "start_time": "2024-12-08T15:31:05.103Z"
   },
   {
    "duration": 11,
    "start_time": "2024-12-08T15:31:05.353Z"
   },
   {
    "duration": 4,
    "start_time": "2024-12-08T15:31:05.398Z"
   },
   {
    "duration": 101,
    "start_time": "2024-12-08T15:31:05.678Z"
   },
   {
    "duration": 53,
    "start_time": "2024-12-08T15:31:06.074Z"
   },
   {
    "duration": 53,
    "start_time": "2024-12-08T15:31:06.129Z"
   },
   {
    "duration": 53,
    "start_time": "2024-12-08T15:31:07.556Z"
   },
   {
    "duration": 123,
    "start_time": "2024-12-08T15:31:07.956Z"
   },
   {
    "duration": 1109,
    "start_time": "2024-12-08T15:31:09.826Z"
   },
   {
    "duration": 436,
    "start_time": "2024-12-08T15:31:10.937Z"
   },
   {
    "duration": 5,
    "start_time": "2024-12-08T15:31:14.826Z"
   },
   {
    "duration": 699,
    "start_time": "2024-12-08T15:31:16.325Z"
   },
   {
    "duration": 13,
    "start_time": "2024-12-08T15:31:17.026Z"
   },
   {
    "duration": 86,
    "start_time": "2024-12-08T15:31:17.218Z"
   },
   {
    "duration": 13,
    "start_time": "2024-12-08T15:31:17.992Z"
   },
   {
    "duration": 179,
    "start_time": "2024-12-08T15:31:18.517Z"
   },
   {
    "duration": 18,
    "start_time": "2024-12-08T15:31:22.344Z"
   },
   {
    "duration": 79,
    "start_time": "2024-12-08T15:31:23.546Z"
   },
   {
    "duration": 42,
    "start_time": "2024-12-08T15:31:23.801Z"
   },
   {
    "duration": 4,
    "start_time": "2024-12-08T15:31:24.320Z"
   },
   {
    "duration": 164,
    "start_time": "2024-12-08T15:31:26.893Z"
   },
   {
    "duration": 96,
    "start_time": "2024-12-08T15:31:54.746Z"
   },
   {
    "duration": 3,
    "start_time": "2024-12-08T15:31:55.300Z"
   },
   {
    "duration": 2,
    "start_time": "2024-12-08T15:31:56.856Z"
   },
   {
    "duration": 12,
    "start_time": "2024-12-08T15:31:57.792Z"
   },
   {
    "duration": 3,
    "start_time": "2024-12-08T15:31:59.935Z"
   },
   {
    "duration": 1071,
    "start_time": "2024-12-08T15:34:07.187Z"
   },
   {
    "duration": 417,
    "start_time": "2024-12-08T15:34:08.260Z"
   },
   {
    "duration": 173,
    "start_time": "2024-12-08T15:34:08.681Z"
   },
   {
    "duration": 11,
    "start_time": "2024-12-08T15:34:08.857Z"
   },
   {
    "duration": 18,
    "start_time": "2024-12-08T15:34:08.869Z"
   },
   {
    "duration": 51,
    "start_time": "2024-12-08T15:34:08.888Z"
   },
   {
    "duration": 13,
    "start_time": "2024-12-08T15:34:08.941Z"
   },
   {
    "duration": 18,
    "start_time": "2024-12-08T15:34:08.955Z"
   },
   {
    "duration": 12,
    "start_time": "2024-12-08T15:34:09.189Z"
   },
   {
    "duration": 4,
    "start_time": "2024-12-08T15:34:10.200Z"
   },
   {
    "duration": 99,
    "start_time": "2024-12-08T15:34:10.445Z"
   },
   {
    "duration": 56,
    "start_time": "2024-12-08T15:34:10.740Z"
   },
   {
    "duration": 56,
    "start_time": "2024-12-08T15:34:11.059Z"
   },
   {
    "duration": 53,
    "start_time": "2024-12-08T15:34:11.380Z"
   },
   {
    "duration": 119,
    "start_time": "2024-12-08T15:34:11.725Z"
   },
   {
    "duration": 1101,
    "start_time": "2024-12-08T15:34:12.917Z"
   },
   {
    "duration": 452,
    "start_time": "2024-12-08T15:34:14.024Z"
   },
   {
    "duration": 5,
    "start_time": "2024-12-08T15:34:17.063Z"
   },
   {
    "duration": 634,
    "start_time": "2024-12-08T15:34:17.522Z"
   },
   {
    "duration": 9,
    "start_time": "2024-12-08T15:34:18.244Z"
   },
   {
    "duration": 81,
    "start_time": "2024-12-08T15:34:18.587Z"
   },
   {
    "duration": 12,
    "start_time": "2024-12-08T15:34:19.014Z"
   },
   {
    "duration": 165,
    "start_time": "2024-12-08T15:34:19.489Z"
   },
   {
    "duration": 16,
    "start_time": "2024-12-08T15:34:20.184Z"
   },
   {
    "duration": 77,
    "start_time": "2024-12-08T15:34:20.386Z"
   },
   {
    "duration": 43,
    "start_time": "2024-12-08T15:34:20.840Z"
   },
   {
    "duration": 4,
    "start_time": "2024-12-08T15:34:21.580Z"
   },
   {
    "duration": 172,
    "start_time": "2024-12-08T15:34:22.194Z"
   },
   {
    "duration": 95,
    "start_time": "2024-12-08T15:34:22.846Z"
   },
   {
    "duration": 2,
    "start_time": "2024-12-08T15:34:23.505Z"
   },
   {
    "duration": 3,
    "start_time": "2024-12-08T15:34:24.730Z"
   },
   {
    "duration": 12,
    "start_time": "2024-12-08T15:34:25.247Z"
   },
   {
    "duration": 3,
    "start_time": "2024-12-08T15:34:25.945Z"
   },
   {
    "duration": 231,
    "start_time": "2024-12-08T15:34:27.236Z"
   },
   {
    "duration": 1069,
    "start_time": "2024-12-08T15:36:21.461Z"
   },
   {
    "duration": 411,
    "start_time": "2024-12-08T15:36:22.533Z"
   },
   {
    "duration": 165,
    "start_time": "2024-12-08T15:36:22.946Z"
   },
   {
    "duration": 15,
    "start_time": "2024-12-08T15:36:23.114Z"
   },
   {
    "duration": 16,
    "start_time": "2024-12-08T15:36:23.131Z"
   },
   {
    "duration": 30,
    "start_time": "2024-12-08T15:36:23.467Z"
   },
   {
    "duration": 12,
    "start_time": "2024-12-08T15:36:23.872Z"
   },
   {
    "duration": 19,
    "start_time": "2024-12-08T15:36:24.188Z"
   },
   {
    "duration": 12,
    "start_time": "2024-12-08T15:36:24.568Z"
   },
   {
    "duration": 4,
    "start_time": "2024-12-08T15:36:25.479Z"
   },
   {
    "duration": 102,
    "start_time": "2024-12-08T15:36:25.953Z"
   },
   {
    "duration": 68,
    "start_time": "2024-12-08T15:36:26.564Z"
   },
   {
    "duration": 64,
    "start_time": "2024-12-08T15:36:27.299Z"
   },
   {
    "duration": 73,
    "start_time": "2024-12-08T15:36:27.501Z"
   },
   {
    "duration": 122,
    "start_time": "2024-12-08T15:36:28.376Z"
   },
   {
    "duration": 1084,
    "start_time": "2024-12-08T15:36:30.171Z"
   },
   {
    "duration": 473,
    "start_time": "2024-12-08T15:36:31.507Z"
   },
   {
    "duration": 5,
    "start_time": "2024-12-08T15:36:36.004Z"
   },
   {
    "duration": 619,
    "start_time": "2024-12-08T15:36:36.575Z"
   },
   {
    "duration": 8,
    "start_time": "2024-12-08T15:36:37.620Z"
   },
   {
    "duration": 80,
    "start_time": "2024-12-08T15:36:44.156Z"
   },
   {
    "duration": 13,
    "start_time": "2024-12-08T15:36:45.805Z"
   },
   {
    "duration": 167,
    "start_time": "2024-12-08T15:36:50.371Z"
   },
   {
    "duration": 17,
    "start_time": "2024-12-08T15:36:50.712Z"
   },
   {
    "duration": 77,
    "start_time": "2024-12-08T15:36:52.008Z"
   },
   {
    "duration": 39,
    "start_time": "2024-12-08T15:36:52.686Z"
   },
   {
    "duration": 4,
    "start_time": "2024-12-08T15:36:53.246Z"
   },
   {
    "duration": 163,
    "start_time": "2024-12-08T15:36:53.971Z"
   },
   {
    "duration": 94,
    "start_time": "2024-12-08T15:36:57.015Z"
   },
   {
    "duration": 3,
    "start_time": "2024-12-08T15:36:57.566Z"
   },
   {
    "duration": 1052,
    "start_time": "2024-12-08T15:48:45.459Z"
   },
   {
    "duration": 421,
    "start_time": "2024-12-08T15:48:46.514Z"
   },
   {
    "duration": 159,
    "start_time": "2024-12-08T15:48:46.938Z"
   },
   {
    "duration": 12,
    "start_time": "2024-12-08T15:48:47.103Z"
   },
   {
    "duration": 16,
    "start_time": "2024-12-08T15:48:47.677Z"
   },
   {
    "duration": 31,
    "start_time": "2024-12-08T15:48:48.025Z"
   },
   {
    "duration": 13,
    "start_time": "2024-12-08T15:48:48.514Z"
   },
   {
    "duration": 19,
    "start_time": "2024-12-08T15:48:49.719Z"
   },
   {
    "duration": 12,
    "start_time": "2024-12-08T15:48:49.966Z"
   },
   {
    "duration": 3,
    "start_time": "2024-12-08T15:48:51.061Z"
   },
   {
    "duration": 100,
    "start_time": "2024-12-08T15:48:51.699Z"
   },
   {
    "duration": 54,
    "start_time": "2024-12-08T15:48:51.899Z"
   },
   {
    "duration": 53,
    "start_time": "2024-12-08T15:48:52.354Z"
   },
   {
    "duration": 53,
    "start_time": "2024-12-08T15:48:53.021Z"
   },
   {
    "duration": 121,
    "start_time": "2024-12-08T15:48:53.544Z"
   },
   {
    "duration": 1116,
    "start_time": "2024-12-08T15:48:56.021Z"
   },
   {
    "duration": 438,
    "start_time": "2024-12-08T15:48:58.380Z"
   },
   {
    "duration": 4,
    "start_time": "2024-12-08T15:49:08.530Z"
   },
   {
    "duration": 688,
    "start_time": "2024-12-08T15:49:08.985Z"
   },
   {
    "duration": 13,
    "start_time": "2024-12-08T15:49:09.675Z"
   },
   {
    "duration": 86,
    "start_time": "2024-12-08T15:49:10.302Z"
   },
   {
    "duration": 12,
    "start_time": "2024-12-08T15:49:10.719Z"
   },
   {
    "duration": 173,
    "start_time": "2024-12-08T15:49:11.276Z"
   },
   {
    "duration": 16,
    "start_time": "2024-12-08T15:49:11.998Z"
   },
   {
    "duration": 76,
    "start_time": "2024-12-08T15:49:12.017Z"
   },
   {
    "duration": 40,
    "start_time": "2024-12-08T15:49:12.465Z"
   },
   {
    "duration": 4,
    "start_time": "2024-12-08T15:49:13.169Z"
   },
   {
    "duration": 166,
    "start_time": "2024-12-08T15:49:15.239Z"
   },
   {
    "duration": 100,
    "start_time": "2024-12-08T15:49:17.689Z"
   },
   {
    "duration": 3,
    "start_time": "2024-12-08T15:49:18.938Z"
   },
   {
    "duration": 12,
    "start_time": "2024-12-08T15:49:29.935Z"
   },
   {
    "duration": 138,
    "start_time": "2024-12-08T15:49:32.490Z"
   },
   {
    "duration": 350,
    "start_time": "2024-12-08T15:55:28.830Z"
   },
   {
    "duration": 20,
    "start_time": "2024-12-08T15:55:36.209Z"
   },
   {
    "duration": 23,
    "start_time": "2024-12-08T15:55:48.146Z"
   },
   {
    "duration": 9,
    "start_time": "2024-12-08T15:55:59.417Z"
   },
   {
    "duration": 10,
    "start_time": "2024-12-08T15:56:13.709Z"
   },
   {
    "duration": 3,
    "start_time": "2024-12-08T16:04:42.676Z"
   },
   {
    "duration": 394,
    "start_time": "2024-12-08T16:04:43.245Z"
   },
   {
    "duration": 152,
    "start_time": "2024-12-08T16:04:44.472Z"
   },
   {
    "duration": 11,
    "start_time": "2024-12-08T16:04:44.787Z"
   },
   {
    "duration": 12,
    "start_time": "2024-12-08T16:04:45.153Z"
   },
   {
    "duration": 20,
    "start_time": "2024-12-08T16:04:45.540Z"
   },
   {
    "duration": 13,
    "start_time": "2024-12-08T16:04:45.868Z"
   },
   {
    "duration": 19,
    "start_time": "2024-12-08T16:04:46.249Z"
   },
   {
    "duration": 13,
    "start_time": "2024-12-08T16:04:46.665Z"
   },
   {
    "duration": 3,
    "start_time": "2024-12-08T16:04:47.404Z"
   },
   {
    "duration": 106,
    "start_time": "2024-12-08T16:04:47.755Z"
   },
   {
    "duration": 53,
    "start_time": "2024-12-08T16:04:48.071Z"
   },
   {
    "duration": 54,
    "start_time": "2024-12-08T16:04:48.270Z"
   },
   {
    "duration": 52,
    "start_time": "2024-12-08T16:04:48.467Z"
   },
   {
    "duration": 119,
    "start_time": "2024-12-08T16:04:48.679Z"
   },
   {
    "duration": 1083,
    "start_time": "2024-12-08T16:04:49.456Z"
   },
   {
    "duration": 514,
    "start_time": "2024-12-08T16:04:50.541Z"
   },
   {
    "duration": 4,
    "start_time": "2024-12-08T16:04:52.277Z"
   },
   {
    "duration": 623,
    "start_time": "2024-12-08T16:04:52.480Z"
   },
   {
    "duration": 18,
    "start_time": "2024-12-08T16:04:53.106Z"
   },
   {
    "duration": 79,
    "start_time": "2024-12-08T16:04:53.126Z"
   },
   {
    "duration": 26,
    "start_time": "2024-12-08T16:04:53.207Z"
   },
   {
    "duration": 170,
    "start_time": "2024-12-08T16:04:53.541Z"
   },
   {
    "duration": 18,
    "start_time": "2024-12-08T16:04:54.214Z"
   },
   {
    "duration": 78,
    "start_time": "2024-12-08T16:04:55.230Z"
   },
   {
    "duration": 39,
    "start_time": "2024-12-08T16:04:55.620Z"
   },
   {
    "duration": 4,
    "start_time": "2024-12-08T16:04:56.219Z"
   },
   {
    "duration": 172,
    "start_time": "2024-12-08T16:04:56.917Z"
   },
   {
    "duration": 99,
    "start_time": "2024-12-08T16:04:57.751Z"
   },
   {
    "duration": 3,
    "start_time": "2024-12-08T16:04:58.534Z"
   },
   {
    "duration": 8,
    "start_time": "2024-12-08T16:05:00.225Z"
   },
   {
    "duration": 222,
    "start_time": "2024-12-08T16:05:02.006Z"
   },
   {
    "duration": 24,
    "start_time": "2024-12-08T16:07:31.181Z"
   },
   {
    "duration": 21,
    "start_time": "2024-12-08T16:07:53.766Z"
   },
   {
    "duration": 4,
    "start_time": "2024-12-08T16:08:27.316Z"
   },
   {
    "duration": 19,
    "start_time": "2024-12-08T16:08:32.890Z"
   },
   {
    "duration": 2630,
    "start_time": "2024-12-09T14:05:07.627Z"
   },
   {
    "duration": 458,
    "start_time": "2024-12-09T14:05:10.259Z"
   },
   {
    "duration": 155,
    "start_time": "2024-12-09T14:05:10.719Z"
   },
   {
    "duration": 11,
    "start_time": "2024-12-09T14:05:10.877Z"
   },
   {
    "duration": 15,
    "start_time": "2024-12-09T14:05:10.889Z"
   },
   {
    "duration": 28,
    "start_time": "2024-12-09T14:05:10.906Z"
   },
   {
    "duration": 37,
    "start_time": "2024-12-09T14:05:10.936Z"
   },
   {
    "duration": 23,
    "start_time": "2024-12-09T14:05:10.974Z"
   },
   {
    "duration": 12,
    "start_time": "2024-12-09T14:05:10.998Z"
   },
   {
    "duration": 2,
    "start_time": "2024-12-09T14:05:11.014Z"
   },
   {
    "duration": 123,
    "start_time": "2024-12-09T14:05:11.018Z"
   },
   {
    "duration": 60,
    "start_time": "2024-12-09T14:05:11.143Z"
   },
   {
    "duration": 66,
    "start_time": "2024-12-09T14:05:11.204Z"
   },
   {
    "duration": 53,
    "start_time": "2024-12-09T14:05:11.271Z"
   },
   {
    "duration": 131,
    "start_time": "2024-12-09T14:05:11.325Z"
   },
   {
    "duration": 1114,
    "start_time": "2024-12-09T14:05:11.458Z"
   },
   {
    "duration": 519,
    "start_time": "2024-12-09T14:05:12.575Z"
   },
   {
    "duration": 4,
    "start_time": "2024-12-09T14:05:13.096Z"
   },
   {
    "duration": 680,
    "start_time": "2024-12-09T14:05:13.102Z"
   },
   {
    "duration": 12,
    "start_time": "2024-12-09T14:05:13.784Z"
   },
   {
    "duration": 100,
    "start_time": "2024-12-09T14:05:13.798Z"
   },
   {
    "duration": 12,
    "start_time": "2024-12-09T14:05:13.900Z"
   },
   {
    "duration": 181,
    "start_time": "2024-12-09T14:05:13.914Z"
   },
   {
    "duration": 16,
    "start_time": "2024-12-09T14:05:14.097Z"
   },
   {
    "duration": 89,
    "start_time": "2024-12-09T14:05:14.116Z"
   },
   {
    "duration": 40,
    "start_time": "2024-12-09T14:05:14.206Z"
   },
   {
    "duration": 4,
    "start_time": "2024-12-09T14:05:14.248Z"
   },
   {
    "duration": 167,
    "start_time": "2024-12-09T14:05:14.271Z"
   },
   {
    "duration": 100,
    "start_time": "2024-12-09T14:05:14.440Z"
   },
   {
    "duration": 3,
    "start_time": "2024-12-09T14:05:14.542Z"
   },
   {
    "duration": 29,
    "start_time": "2024-12-09T14:05:14.547Z"
   },
   {
    "duration": 192,
    "start_time": "2024-12-09T14:05:14.578Z"
   },
   {
    "duration": 2682,
    "start_time": "2024-12-11T21:33:35.084Z"
   },
   {
    "duration": 487,
    "start_time": "2024-12-11T21:33:38.585Z"
   },
   {
    "duration": 147,
    "start_time": "2024-12-11T21:33:39.163Z"
   },
   {
    "duration": 12,
    "start_time": "2024-12-11T21:33:39.349Z"
   },
   {
    "duration": 16,
    "start_time": "2024-12-11T21:33:39.537Z"
   },
   {
    "duration": 31,
    "start_time": "2024-12-11T21:33:39.739Z"
   },
   {
    "duration": 12,
    "start_time": "2024-12-11T21:33:39.959Z"
   },
   {
    "duration": 18,
    "start_time": "2024-12-11T21:33:40.172Z"
   },
   {
    "duration": 11,
    "start_time": "2024-12-11T21:33:40.364Z"
   },
   {
    "duration": 4,
    "start_time": "2024-12-11T21:33:40.704Z"
   },
   {
    "duration": 101,
    "start_time": "2024-12-11T21:33:40.926Z"
   },
   {
    "duration": 55,
    "start_time": "2024-12-11T21:33:41.112Z"
   },
   {
    "duration": 53,
    "start_time": "2024-12-11T21:33:41.308Z"
   },
   {
    "duration": 53,
    "start_time": "2024-12-11T21:33:41.501Z"
   },
   {
    "duration": 118,
    "start_time": "2024-12-11T21:33:41.710Z"
   },
   {
    "duration": 1205,
    "start_time": "2024-12-11T21:33:42.294Z"
   },
   {
    "duration": 448,
    "start_time": "2024-12-11T21:33:43.501Z"
   },
   {
    "duration": 5,
    "start_time": "2024-12-11T21:33:44.207Z"
   },
   {
    "duration": 606,
    "start_time": "2024-12-11T21:33:44.599Z"
   },
   {
    "duration": 8,
    "start_time": "2024-12-11T21:33:45.207Z"
   },
   {
    "duration": 91,
    "start_time": "2024-12-11T21:33:45.217Z"
   },
   {
    "duration": 12,
    "start_time": "2024-12-11T21:33:45.474Z"
   },
   {
    "duration": 167,
    "start_time": "2024-12-11T21:33:45.779Z"
   },
   {
    "duration": 18,
    "start_time": "2024-12-11T21:33:46.145Z"
   },
   {
    "duration": 76,
    "start_time": "2024-12-11T21:33:46.624Z"
   },
   {
    "duration": 39,
    "start_time": "2024-12-11T21:33:47.123Z"
   },
   {
    "duration": 5,
    "start_time": "2024-12-11T21:33:47.563Z"
   },
   {
    "duration": 163,
    "start_time": "2024-12-11T21:33:48.065Z"
   },
   {
    "duration": 97,
    "start_time": "2024-12-11T21:33:48.564Z"
   },
   {
    "duration": 3,
    "start_time": "2024-12-11T21:33:49.114Z"
   },
   {
    "duration": 12,
    "start_time": "2024-12-11T21:33:50.190Z"
   },
   {
    "duration": 197,
    "start_time": "2024-12-11T21:33:51.616Z"
   },
   {
    "duration": 1021,
    "start_time": "2024-12-11T21:43:04.362Z"
   },
   {
    "duration": 417,
    "start_time": "2024-12-11T21:43:05.385Z"
   },
   {
    "duration": 146,
    "start_time": "2024-12-11T21:43:06.050Z"
   },
   {
    "duration": 10,
    "start_time": "2024-12-11T21:43:06.275Z"
   },
   {
    "duration": 18,
    "start_time": "2024-12-11T21:43:06.559Z"
   },
   {
    "duration": 27,
    "start_time": "2024-12-11T21:43:06.812Z"
   },
   {
    "duration": 12,
    "start_time": "2024-12-11T21:43:07.031Z"
   },
   {
    "duration": 17,
    "start_time": "2024-12-11T21:43:07.285Z"
   },
   {
    "duration": 12,
    "start_time": "2024-12-11T21:43:07.639Z"
   },
   {
    "duration": 3,
    "start_time": "2024-12-11T21:43:08.380Z"
   },
   {
    "duration": 104,
    "start_time": "2024-12-11T21:43:08.786Z"
   },
   {
    "duration": 52,
    "start_time": "2024-12-11T21:43:09.225Z"
   },
   {
    "duration": 54,
    "start_time": "2024-12-11T21:43:09.726Z"
   },
   {
    "duration": 52,
    "start_time": "2024-12-11T21:43:10.523Z"
   },
   {
    "duration": 118,
    "start_time": "2024-12-11T21:43:11.182Z"
   },
   {
    "duration": 1089,
    "start_time": "2024-12-11T21:43:12.042Z"
   },
   {
    "duration": 425,
    "start_time": "2024-12-11T21:43:13.133Z"
   },
   {
    "duration": 4,
    "start_time": "2024-12-11T21:43:14.304Z"
   },
   {
    "duration": 603,
    "start_time": "2024-12-11T21:43:14.702Z"
   },
   {
    "duration": 8,
    "start_time": "2024-12-11T21:43:15.307Z"
   },
   {
    "duration": 78,
    "start_time": "2024-12-11T21:43:15.510Z"
   },
   {
    "duration": 10,
    "start_time": "2024-12-11T21:43:15.793Z"
   },
   {
    "duration": 167,
    "start_time": "2024-12-11T21:43:16.127Z"
   },
   {
    "duration": 15,
    "start_time": "2024-12-11T21:43:16.423Z"
   },
   {
    "duration": 77,
    "start_time": "2024-12-11T21:43:16.761Z"
   },
   {
    "duration": 37,
    "start_time": "2024-12-11T21:43:17.276Z"
   },
   {
    "duration": 4,
    "start_time": "2024-12-11T21:43:17.735Z"
   },
   {
    "duration": 167,
    "start_time": "2024-12-11T21:43:18.104Z"
   },
   {
    "duration": 92,
    "start_time": "2024-12-11T21:43:18.534Z"
   },
   {
    "duration": 4,
    "start_time": "2024-12-11T21:43:18.954Z"
   },
   {
    "duration": 12,
    "start_time": "2024-12-11T21:43:19.901Z"
   },
   {
    "duration": 198,
    "start_time": "2024-12-11T21:43:20.811Z"
   },
   {
    "duration": 2775,
    "start_time": "2024-12-12T16:34:12.226Z"
   },
   {
    "duration": 449,
    "start_time": "2024-12-12T16:34:15.003Z"
   },
   {
    "duration": 161,
    "start_time": "2024-12-12T16:34:15.454Z"
   },
   {
    "duration": 13,
    "start_time": "2024-12-12T16:34:15.626Z"
   },
   {
    "duration": 15,
    "start_time": "2024-12-12T16:34:15.641Z"
   },
   {
    "duration": 28,
    "start_time": "2024-12-12T16:34:15.659Z"
   },
   {
    "duration": 35,
    "start_time": "2024-12-12T16:34:15.689Z"
   },
   {
    "duration": 19,
    "start_time": "2024-12-12T16:34:15.725Z"
   },
   {
    "duration": 11,
    "start_time": "2024-12-12T16:34:15.746Z"
   },
   {
    "duration": 4,
    "start_time": "2024-12-12T16:34:15.760Z"
   },
   {
    "duration": 119,
    "start_time": "2024-12-12T16:34:15.765Z"
   },
   {
    "duration": 60,
    "start_time": "2024-12-12T16:34:15.886Z"
   },
   {
    "duration": 52,
    "start_time": "2024-12-12T16:34:15.948Z"
   },
   {
    "duration": 64,
    "start_time": "2024-12-12T16:34:16.003Z"
   },
   {
    "duration": 124,
    "start_time": "2024-12-12T16:34:16.069Z"
   },
   {
    "duration": 1059,
    "start_time": "2024-12-12T16:34:16.195Z"
   },
   {
    "duration": 437,
    "start_time": "2024-12-12T16:34:17.256Z"
   },
   {
    "duration": 5,
    "start_time": "2024-12-12T16:34:17.695Z"
   },
   {
    "duration": 634,
    "start_time": "2024-12-12T16:34:17.701Z"
   },
   {
    "duration": 8,
    "start_time": "2024-12-12T16:34:18.337Z"
   },
   {
    "duration": 89,
    "start_time": "2024-12-12T16:34:18.347Z"
   },
   {
    "duration": 63,
    "start_time": "2024-12-12T16:34:18.438Z"
   },
   {
    "duration": 175,
    "start_time": "2024-12-12T16:34:18.503Z"
   },
   {
    "duration": 16,
    "start_time": "2024-12-12T16:34:18.680Z"
   },
   {
    "duration": 74,
    "start_time": "2024-12-12T16:34:19.205Z"
   },
   {
    "duration": 38,
    "start_time": "2024-12-12T16:34:19.476Z"
   },
   {
    "duration": 4,
    "start_time": "2024-12-12T16:34:19.790Z"
   },
   {
    "duration": 158,
    "start_time": "2024-12-12T16:34:20.051Z"
   },
   {
    "duration": 95,
    "start_time": "2024-12-12T16:34:20.431Z"
   },
   {
    "duration": 3,
    "start_time": "2024-12-12T16:34:20.802Z"
   },
   {
    "duration": 11,
    "start_time": "2024-12-12T16:34:21.507Z"
   },
   {
    "duration": 174,
    "start_time": "2024-12-12T16:34:22.165Z"
   },
   {
    "duration": 90294,
    "start_time": "2024-12-12T16:34:22.986Z"
   },
   {
    "duration": 2702,
    "start_time": "2025-02-18T12:50:32.278Z"
   },
   {
    "duration": 462,
    "start_time": "2025-02-18T12:50:34.982Z"
   },
   {
    "duration": 150,
    "start_time": "2025-02-18T12:50:35.446Z"
   },
   {
    "duration": 11,
    "start_time": "2025-02-18T12:50:35.599Z"
   },
   {
    "duration": 14,
    "start_time": "2025-02-18T12:50:35.611Z"
   },
   {
    "duration": 41,
    "start_time": "2025-02-18T12:50:35.628Z"
   },
   {
    "duration": 12,
    "start_time": "2025-02-18T12:50:35.671Z"
   },
   {
    "duration": 21,
    "start_time": "2025-02-18T12:50:35.685Z"
   },
   {
    "duration": 11,
    "start_time": "2025-02-18T12:50:35.708Z"
   },
   {
    "duration": 3,
    "start_time": "2025-02-18T12:50:35.745Z"
   },
   {
    "duration": 113,
    "start_time": "2025-02-18T12:50:35.750Z"
   },
   {
    "duration": 50,
    "start_time": "2025-02-18T12:50:35.865Z"
   },
   {
    "duration": 64,
    "start_time": "2025-02-18T12:50:35.917Z"
   },
   {
    "duration": 60,
    "start_time": "2025-02-18T12:50:35.983Z"
   },
   {
    "duration": 124,
    "start_time": "2025-02-18T12:50:36.045Z"
   },
   {
    "duration": 1121,
    "start_time": "2025-02-18T12:50:36.171Z"
   },
   {
    "duration": 446,
    "start_time": "2025-02-18T12:50:37.294Z"
   },
   {
    "duration": 4,
    "start_time": "2025-02-18T12:50:37.742Z"
   },
   {
    "duration": 703,
    "start_time": "2025-02-18T12:50:37.748Z"
   },
   {
    "duration": 12,
    "start_time": "2025-02-18T12:50:38.453Z"
   },
   {
    "duration": 98,
    "start_time": "2025-02-18T12:50:38.467Z"
   },
   {
    "duration": 13,
    "start_time": "2025-02-18T12:50:38.566Z"
   },
   {
    "duration": 175,
    "start_time": "2025-02-18T12:50:38.580Z"
   },
   {
    "duration": 18,
    "start_time": "2025-02-18T12:50:38.756Z"
   },
   {
    "duration": 90,
    "start_time": "2025-02-18T12:50:38.775Z"
   },
   {
    "duration": 37,
    "start_time": "2025-02-18T12:50:38.867Z"
   },
   {
    "duration": 5,
    "start_time": "2025-02-18T12:50:38.906Z"
   },
   {
    "duration": 177,
    "start_time": "2025-02-18T12:50:38.915Z"
   },
   {
    "duration": 102,
    "start_time": "2025-02-18T12:50:39.094Z"
   },
   {
    "duration": 3,
    "start_time": "2025-02-18T12:50:39.198Z"
   },
   {
    "duration": 11,
    "start_time": "2025-02-18T12:50:39.203Z"
   },
   {
    "duration": 229,
    "start_time": "2025-02-18T12:50:39.215Z"
   },
   {
    "duration": 86592,
    "start_time": "2025-02-18T12:50:39.445Z"
   },
   {
    "duration": 2629,
    "start_time": "2025-02-18T12:52:06.039Z"
   },
   {
    "duration": 35337,
    "start_time": "2025-02-18T12:53:08.819Z"
   },
   {
    "duration": 254,
    "start_time": "2025-02-18T12:55:01.054Z"
   },
   {
    "duration": 4,
    "start_time": "2025-02-18T12:55:08.869Z"
   },
   {
    "duration": 18,
    "start_time": "2025-02-18T12:55:14.778Z"
   },
   {
    "duration": 4,
    "start_time": "2025-02-18T12:55:39.725Z"
   },
   {
    "duration": 2324,
    "start_time": "2025-02-18T12:55:46.694Z"
   },
   {
    "duration": 148,
    "start_time": "2025-02-18T12:57:19.202Z"
   },
   {
    "duration": 1044,
    "start_time": "2025-02-18T12:57:32.518Z"
   },
   {
    "duration": 405,
    "start_time": "2025-02-18T12:57:33.564Z"
   },
   {
    "duration": 161,
    "start_time": "2025-02-18T12:57:33.972Z"
   },
   {
    "duration": 16,
    "start_time": "2025-02-18T12:57:34.135Z"
   },
   {
    "duration": 16,
    "start_time": "2025-02-18T12:57:34.155Z"
   },
   {
    "duration": 30,
    "start_time": "2025-02-18T12:57:34.174Z"
   },
   {
    "duration": 35,
    "start_time": "2025-02-18T12:57:34.207Z"
   },
   {
    "duration": 18,
    "start_time": "2025-02-18T12:57:34.244Z"
   },
   {
    "duration": 12,
    "start_time": "2025-02-18T12:57:34.264Z"
   },
   {
    "duration": 3,
    "start_time": "2025-02-18T12:57:34.278Z"
   },
   {
    "duration": 121,
    "start_time": "2025-02-18T12:57:34.283Z"
   },
   {
    "duration": 56,
    "start_time": "2025-02-18T12:57:34.406Z"
   },
   {
    "duration": 53,
    "start_time": "2025-02-18T12:57:34.464Z"
   },
   {
    "duration": 70,
    "start_time": "2025-02-18T12:57:34.521Z"
   },
   {
    "duration": 128,
    "start_time": "2025-02-18T12:57:34.593Z"
   },
   {
    "duration": 1119,
    "start_time": "2025-02-18T12:57:34.723Z"
   },
   {
    "duration": 447,
    "start_time": "2025-02-18T12:57:35.844Z"
   },
   {
    "duration": 5,
    "start_time": "2025-02-18T12:57:36.293Z"
   },
   {
    "duration": 592,
    "start_time": "2025-02-18T12:57:36.300Z"
   },
   {
    "duration": 8,
    "start_time": "2025-02-18T12:57:36.894Z"
   },
   {
    "duration": 96,
    "start_time": "2025-02-18T12:57:36.904Z"
   },
   {
    "duration": 13,
    "start_time": "2025-02-18T12:57:37.002Z"
   },
   {
    "duration": 179,
    "start_time": "2025-02-18T12:57:37.017Z"
   },
   {
    "duration": 16,
    "start_time": "2025-02-18T12:57:37.198Z"
   },
   {
    "duration": 87,
    "start_time": "2025-02-18T12:57:37.216Z"
   },
   {
    "duration": 46,
    "start_time": "2025-02-18T12:57:37.305Z"
   },
   {
    "duration": 4,
    "start_time": "2025-02-18T12:57:37.353Z"
   },
   {
    "duration": 174,
    "start_time": "2025-02-18T12:57:37.360Z"
   },
   {
    "duration": 95,
    "start_time": "2025-02-18T12:57:37.536Z"
   },
   {
    "duration": 10,
    "start_time": "2025-02-18T12:57:37.633Z"
   },
   {
    "duration": 12,
    "start_time": "2025-02-18T12:57:37.645Z"
   },
   {
    "duration": 187,
    "start_time": "2025-02-18T12:57:37.659Z"
   },
   {
    "duration": 88268,
    "start_time": "2025-02-18T12:57:37.848Z"
   },
   {
    "duration": 3143,
    "start_time": "2025-02-18T12:59:06.118Z"
   },
   {
    "duration": 34984,
    "start_time": "2025-02-18T12:59:09.263Z"
   },
   {
    "duration": 2277,
    "start_time": "2025-02-18T12:59:44.249Z"
   }
  ],
  "kernelspec": {
   "display_name": "Python 3 (ipykernel)",
   "language": "python",
   "name": "python3"
  },
  "language_info": {
   "codemirror_mode": {
    "name": "ipython",
    "version": 3
   },
   "file_extension": ".py",
   "mimetype": "text/x-python",
   "name": "python",
   "nbconvert_exporter": "python",
   "pygments_lexer": "ipython3",
   "version": "3.9.19"
  },
  "toc": {
   "base_numbering": 1,
   "nav_menu": {},
   "number_sections": true,
   "sideBar": true,
   "skip_h1_title": true,
   "title_cell": "Table of Contents",
   "title_sidebar": "Contents",
   "toc_cell": false,
   "toc_position": {},
   "toc_section_display": true,
   "toc_window_display": true
  }
 },
 "nbformat": 4,
 "nbformat_minor": 2
}
